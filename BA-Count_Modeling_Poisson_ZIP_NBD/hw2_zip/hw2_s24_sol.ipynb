{
 "cells": [
  {
   "cell_type": "markdown",
   "metadata": {},
   "source": [
    "# ABA: HW2 Solutions\n",
    "\n",
    "### Spring 2024"
   ]
  },
  {
   "cell_type": "code",
   "execution_count": 1,
   "metadata": {},
   "outputs": [
    {
     "name": "stderr",
     "output_type": "stream",
     "text": [
      "/opt/anaconda3/lib/python3.7/site-packages/statsmodels/tools/_testing.py:19: FutureWarning: pandas.util.testing is deprecated. Use the functions in the public API at pandas.testing instead.\n",
      "  import pandas.util.testing as tm\n"
     ]
    }
   ],
   "source": [
    "# Import required libraries :\n",
    "import io\n",
    "import pandas as pd\n",
    "import numpy as np\n",
    "import matplotlib.pyplot as plt\n",
    "import seaborn as sns\n",
    "import statsmodels.api as sm\n",
    "from scipy import stats \n",
    "import statsmodels.formula.api as smf\n",
    "from patsy import dmatrices"
   ]
  },
  {
   "cell_type": "markdown",
   "metadata": {},
   "source": [
    "# Question 1"
   ]
  },
  {
   "cell_type": "markdown",
   "metadata": {},
   "source": [
    "1. SmartAttire, is an established clothing catalog company with an online presence at SmartAttire.com. In order to gain an understanding of the aggregate visiting patterns of broader Internet users, the firm purchased Media Metrix panel data. For a sample of 2728 people who visited any online apparel site at least once during the second half of 2017, the dataset reports how many visits each person made to the SmartAttire.com web site, along with some demographic information. Management would like to know whether the frequency of visits to the web site is related to demographic characteristics.\n",
    "\n",
    "Since you are an expert, the manager comes to you to help you understand the role of demographic variables in website visits. \n"
   ]
  },
  {
   "cell_type": "markdown",
   "metadata": {},
   "source": [
    "### [i] First aggregate the data at total visit level and count the number of customers. Then plot a bar chart. Comment on what the distribution looks like. [5]"
   ]
  },
  {
   "cell_type": "markdown",
   "metadata": {},
   "source": [
    "#### Data Cleaning"
   ]
  },
  {
   "cell_type": "code",
   "execution_count": 2,
   "metadata": {},
   "outputs": [
    {
     "data": {
      "text/html": [
       "<div>\n",
       "<style scoped>\n",
       "    .dataframe tbody tr th:only-of-type {\n",
       "        vertical-align: middle;\n",
       "    }\n",
       "\n",
       "    .dataframe tbody tr th {\n",
       "        vertical-align: top;\n",
       "    }\n",
       "\n",
       "    .dataframe thead th {\n",
       "        text-align: right;\n",
       "    }\n",
       "</style>\n",
       "<table border=\"1\" class=\"dataframe\">\n",
       "  <thead>\n",
       "    <tr style=\"text-align: right;\">\n",
       "      <th></th>\n",
       "      <th>ID</th>\n",
       "      <th>Total Visits</th>\n",
       "      <th>Income</th>\n",
       "      <th>Sex</th>\n",
       "      <th>Age</th>\n",
       "      <th>Size</th>\n",
       "    </tr>\n",
       "  </thead>\n",
       "  <tbody>\n",
       "    <tr>\n",
       "      <th>0</th>\n",
       "      <td>1</td>\n",
       "      <td>0</td>\n",
       "      <td>11.379394</td>\n",
       "      <td>1</td>\n",
       "      <td>3.871201</td>\n",
       "      <td>2</td>\n",
       "    </tr>\n",
       "    <tr>\n",
       "      <th>1</th>\n",
       "      <td>2</td>\n",
       "      <td>5</td>\n",
       "      <td>9.769956</td>\n",
       "      <td>1</td>\n",
       "      <td>4.043051</td>\n",
       "      <td>1</td>\n",
       "    </tr>\n",
       "    <tr>\n",
       "      <th>2</th>\n",
       "      <td>3</td>\n",
       "      <td>0</td>\n",
       "      <td>11.082143</td>\n",
       "      <td>0</td>\n",
       "      <td>3.332205</td>\n",
       "      <td>2</td>\n",
       "    </tr>\n",
       "    <tr>\n",
       "      <th>3</th>\n",
       "      <td>4</td>\n",
       "      <td>0</td>\n",
       "      <td>10.915088</td>\n",
       "      <td>1</td>\n",
       "      <td>3.951244</td>\n",
       "      <td>3</td>\n",
       "    </tr>\n",
       "    <tr>\n",
       "      <th>4</th>\n",
       "      <td>5</td>\n",
       "      <td>0</td>\n",
       "      <td>10.915088</td>\n",
       "      <td>1</td>\n",
       "      <td>2.833213</td>\n",
       "      <td>3</td>\n",
       "    </tr>\n",
       "    <tr>\n",
       "      <th>5</th>\n",
       "      <td>6</td>\n",
       "      <td>0</td>\n",
       "      <td>10.915088</td>\n",
       "      <td>0</td>\n",
       "      <td>2.944439</td>\n",
       "      <td>3</td>\n",
       "    </tr>\n",
       "    <tr>\n",
       "      <th>6</th>\n",
       "      <td>7</td>\n",
       "      <td>0</td>\n",
       "      <td>11.191342</td>\n",
       "      <td>0</td>\n",
       "      <td>3.663562</td>\n",
       "      <td>2</td>\n",
       "    </tr>\n",
       "    <tr>\n",
       "      <th>7</th>\n",
       "      <td>8</td>\n",
       "      <td>1</td>\n",
       "      <td>11.736069</td>\n",
       "      <td>0</td>\n",
       "      <td>4.077537</td>\n",
       "      <td>2</td>\n",
       "    </tr>\n",
       "    <tr>\n",
       "      <th>8</th>\n",
       "      <td>9</td>\n",
       "      <td>0</td>\n",
       "      <td>10.021271</td>\n",
       "      <td>0</td>\n",
       "      <td>4.248495</td>\n",
       "      <td>1</td>\n",
       "    </tr>\n",
       "    <tr>\n",
       "      <th>9</th>\n",
       "      <td>10</td>\n",
       "      <td>0</td>\n",
       "      <td>10.915088</td>\n",
       "      <td>0</td>\n",
       "      <td>3.850148</td>\n",
       "      <td>3</td>\n",
       "    </tr>\n",
       "  </tbody>\n",
       "</table>\n",
       "</div>"
      ],
      "text/plain": [
       "   ID  Total Visits     Income  Sex       Age  Size\n",
       "0   1             0  11.379394    1  3.871201     2\n",
       "1   2             5   9.769956    1  4.043051     1\n",
       "2   3             0  11.082143    0  3.332205     2\n",
       "3   4             0  10.915088    1  3.951244     3\n",
       "4   5             0  10.915088    1  2.833213     3\n",
       "5   6             0  10.915088    0  2.944439     3\n",
       "6   7             0  11.191342    0  3.663562     2\n",
       "7   8             1  11.736069    0  4.077537     2\n",
       "8   9             0  10.021271    0  4.248495     1\n",
       "9  10             0  10.915088    0  3.850148     3"
      ]
     },
     "execution_count": 2,
     "metadata": {},
     "output_type": "execute_result"
    }
   ],
   "source": [
    "df = pd.read_excel('hw2_S24_data.xlsx',sheet_name='smart_attire', header=0)\n",
    "df.head(10)"
   ]
  },
  {
   "cell_type": "code",
   "execution_count": 3,
   "metadata": {},
   "outputs": [],
   "source": [
    "df.rename(columns={'Total Visits': 'Visits'},inplace=True)"
   ]
  },
  {
   "cell_type": "code",
   "execution_count": 4,
   "metadata": {},
   "outputs": [
    {
     "data": {
      "text/html": [
       "<div>\n",
       "<style scoped>\n",
       "    .dataframe tbody tr th:only-of-type {\n",
       "        vertical-align: middle;\n",
       "    }\n",
       "\n",
       "    .dataframe tbody tr th {\n",
       "        vertical-align: top;\n",
       "    }\n",
       "\n",
       "    .dataframe thead th {\n",
       "        text-align: right;\n",
       "    }\n",
       "</style>\n",
       "<table border=\"1\" class=\"dataframe\">\n",
       "  <thead>\n",
       "    <tr style=\"text-align: right;\">\n",
       "      <th></th>\n",
       "      <th>ID</th>\n",
       "      <th>Visits</th>\n",
       "      <th>Income</th>\n",
       "      <th>Sex</th>\n",
       "      <th>Age</th>\n",
       "      <th>Size</th>\n",
       "    </tr>\n",
       "  </thead>\n",
       "  <tbody>\n",
       "    <tr>\n",
       "      <th>0</th>\n",
       "      <td>1</td>\n",
       "      <td>0</td>\n",
       "      <td>11.379394</td>\n",
       "      <td>1</td>\n",
       "      <td>3.871201</td>\n",
       "      <td>2</td>\n",
       "    </tr>\n",
       "    <tr>\n",
       "      <th>1</th>\n",
       "      <td>2</td>\n",
       "      <td>5</td>\n",
       "      <td>9.769956</td>\n",
       "      <td>1</td>\n",
       "      <td>4.043051</td>\n",
       "      <td>1</td>\n",
       "    </tr>\n",
       "    <tr>\n",
       "      <th>2</th>\n",
       "      <td>3</td>\n",
       "      <td>0</td>\n",
       "      <td>11.082143</td>\n",
       "      <td>0</td>\n",
       "      <td>3.332205</td>\n",
       "      <td>2</td>\n",
       "    </tr>\n",
       "    <tr>\n",
       "      <th>3</th>\n",
       "      <td>4</td>\n",
       "      <td>0</td>\n",
       "      <td>10.915088</td>\n",
       "      <td>1</td>\n",
       "      <td>3.951244</td>\n",
       "      <td>3</td>\n",
       "    </tr>\n",
       "    <tr>\n",
       "      <th>4</th>\n",
       "      <td>5</td>\n",
       "      <td>0</td>\n",
       "      <td>10.915088</td>\n",
       "      <td>1</td>\n",
       "      <td>2.833213</td>\n",
       "      <td>3</td>\n",
       "    </tr>\n",
       "    <tr>\n",
       "      <th>...</th>\n",
       "      <td>...</td>\n",
       "      <td>...</td>\n",
       "      <td>...</td>\n",
       "      <td>...</td>\n",
       "      <td>...</td>\n",
       "      <td>...</td>\n",
       "    </tr>\n",
       "    <tr>\n",
       "      <th>2723</th>\n",
       "      <td>2724</td>\n",
       "      <td>0</td>\n",
       "      <td>9.528794</td>\n",
       "      <td>1</td>\n",
       "      <td>2.944439</td>\n",
       "      <td>2</td>\n",
       "    </tr>\n",
       "    <tr>\n",
       "      <th>2724</th>\n",
       "      <td>2725</td>\n",
       "      <td>0</td>\n",
       "      <td>11.379394</td>\n",
       "      <td>0</td>\n",
       "      <td>3.970292</td>\n",
       "      <td>2</td>\n",
       "    </tr>\n",
       "    <tr>\n",
       "      <th>2725</th>\n",
       "      <td>2726</td>\n",
       "      <td>0</td>\n",
       "      <td>11.191342</td>\n",
       "      <td>1</td>\n",
       "      <td>3.044522</td>\n",
       "      <td>3</td>\n",
       "    </tr>\n",
       "    <tr>\n",
       "      <th>2726</th>\n",
       "      <td>2727</td>\n",
       "      <td>0</td>\n",
       "      <td>10.532096</td>\n",
       "      <td>1</td>\n",
       "      <td>2.890372</td>\n",
       "      <td>4</td>\n",
       "    </tr>\n",
       "    <tr>\n",
       "      <th>2727</th>\n",
       "      <td>2728</td>\n",
       "      <td>0</td>\n",
       "      <td>11.736069</td>\n",
       "      <td>1</td>\n",
       "      <td>2.833213</td>\n",
       "      <td>3</td>\n",
       "    </tr>\n",
       "  </tbody>\n",
       "</table>\n",
       "<p>2728 rows × 6 columns</p>\n",
       "</div>"
      ],
      "text/plain": [
       "        ID  Visits     Income  Sex       Age  Size\n",
       "0        1       0  11.379394    1  3.871201     2\n",
       "1        2       5   9.769956    1  4.043051     1\n",
       "2        3       0  11.082143    0  3.332205     2\n",
       "3        4       0  10.915088    1  3.951244     3\n",
       "4        5       0  10.915088    1  2.833213     3\n",
       "...    ...     ...        ...  ...       ...   ...\n",
       "2723  2724       0   9.528794    1  2.944439     2\n",
       "2724  2725       0  11.379394    0  3.970292     2\n",
       "2725  2726       0  11.191342    1  3.044522     3\n",
       "2726  2727       0  10.532096    1  2.890372     4\n",
       "2727  2728       0  11.736069    1  2.833213     3\n",
       "\n",
       "[2728 rows x 6 columns]"
      ]
     },
     "execution_count": 4,
     "metadata": {},
     "output_type": "execute_result"
    }
   ],
   "source": [
    "#groupby visits and count\n",
    "df"
   ]
  },
  {
   "cell_type": "markdown",
   "metadata": {},
   "source": [
    "#### Plot"
   ]
  },
  {
   "cell_type": "code",
   "execution_count": 5,
   "metadata": {},
   "outputs": [
    {
     "data": {
      "image/png": "[encoded data removed]",
      "text/plain": [
       "<Figure size 432x288 with 1 Axes>"
      ]
     },
     "metadata": {
      "needs_background": "light"
     },
     "output_type": "display_data"
    }
   ],
   "source": [
    "#group by and plot\n",
    "df_summary = df.groupby('Visits').size().to_frame(\"total_customers\").reset_index()\n",
    "sns.barplot(data=df_summary,x='Visits',y='total_customers')\n",
    "plt.title(\"Distribution of visits\")\n",
    "plt.show()"
   ]
  },
  {
   "cell_type": "markdown",
   "metadata": {},
   "source": [
    "### [ii] Write down a Poisson model that estimates the impact of covariates ((income, sex, age, and size) on number of visits. Show the equation, estimate GLM model, show the output and interpret the estimates."
   ]
  },
  {
   "cell_type": "markdown",
   "metadata": {},
   "source": [
    "We will estimate the following model, the log of the mean as a function of the linear combination of the covariates:"
   ]
  },
  {
   "cell_type": "markdown",
   "metadata": {},
   "source": [
    "\\begin{equation}\n",
    "\\log(\\lambda) = \\beta_0 + \\beta_1 \\times \\text{income} + \\beta_2 \\times \\text{sex} + \\beta_3 \\times \\text{age} + \\beta_4 \\times \\text{size}\n",
    "\\end{equation}\n"
   ]
  },
  {
   "cell_type": "markdown",
   "metadata": {},
   "source": [
    "### Poisson regression"
   ]
  },
  {
   "cell_type": "code",
   "execution_count": 6,
   "metadata": {},
   "outputs": [],
   "source": [
    "expr = 'Visits ~ Income + Sex+ Age + Size'"
   ]
  },
  {
   "cell_type": "code",
   "execution_count": 7,
   "metadata": {},
   "outputs": [
    {
     "name": "stdout",
     "output_type": "stream",
     "text": [
      "Training data set length=2182\n",
      "Testing data set length=546\n"
     ]
    }
   ],
   "source": [
    "#create test and train set\n",
    "\n",
    "np.random.seed(42) #set random seed so we can recreate the results\n",
    "mask = np.random.rand(len(df)) < 0.8\n",
    "df_train = df[mask]\n",
    "df_test = df[~mask]\n",
    "print('Training data set length='+str(len(df_train)))\n",
    "print('Testing data set length='+str(len(df_test)))"
   ]
  },
  {
   "cell_type": "code",
   "execution_count": 8,
   "metadata": {},
   "outputs": [
    {
     "data": {
      "text/html": [
       "<div>\n",
       "<style scoped>\n",
       "    .dataframe tbody tr th:only-of-type {\n",
       "        vertical-align: middle;\n",
       "    }\n",
       "\n",
       "    .dataframe tbody tr th {\n",
       "        vertical-align: top;\n",
       "    }\n",
       "\n",
       "    .dataframe thead th {\n",
       "        text-align: right;\n",
       "    }\n",
       "</style>\n",
       "<table border=\"1\" class=\"dataframe\">\n",
       "  <thead>\n",
       "    <tr style=\"text-align: right;\">\n",
       "      <th></th>\n",
       "      <th>ID</th>\n",
       "      <th>Visits</th>\n",
       "      <th>Income</th>\n",
       "      <th>Sex</th>\n",
       "      <th>Age</th>\n",
       "      <th>Size</th>\n",
       "    </tr>\n",
       "  </thead>\n",
       "  <tbody>\n",
       "    <tr>\n",
       "      <th>0</th>\n",
       "      <td>1</td>\n",
       "      <td>0</td>\n",
       "      <td>11.379394</td>\n",
       "      <td>1</td>\n",
       "      <td>3.871201</td>\n",
       "      <td>2</td>\n",
       "    </tr>\n",
       "    <tr>\n",
       "      <th>2</th>\n",
       "      <td>3</td>\n",
       "      <td>0</td>\n",
       "      <td>11.082143</td>\n",
       "      <td>0</td>\n",
       "      <td>3.332205</td>\n",
       "      <td>2</td>\n",
       "    </tr>\n",
       "    <tr>\n",
       "      <th>3</th>\n",
       "      <td>4</td>\n",
       "      <td>0</td>\n",
       "      <td>10.915088</td>\n",
       "      <td>1</td>\n",
       "      <td>3.951244</td>\n",
       "      <td>3</td>\n",
       "    </tr>\n",
       "    <tr>\n",
       "      <th>4</th>\n",
       "      <td>5</td>\n",
       "      <td>0</td>\n",
       "      <td>10.915088</td>\n",
       "      <td>1</td>\n",
       "      <td>2.833213</td>\n",
       "      <td>3</td>\n",
       "    </tr>\n",
       "    <tr>\n",
       "      <th>5</th>\n",
       "      <td>6</td>\n",
       "      <td>0</td>\n",
       "      <td>10.915088</td>\n",
       "      <td>0</td>\n",
       "      <td>2.944439</td>\n",
       "      <td>3</td>\n",
       "    </tr>\n",
       "    <tr>\n",
       "      <th>...</th>\n",
       "      <td>...</td>\n",
       "      <td>...</td>\n",
       "      <td>...</td>\n",
       "      <td>...</td>\n",
       "      <td>...</td>\n",
       "      <td>...</td>\n",
       "    </tr>\n",
       "    <tr>\n",
       "      <th>2723</th>\n",
       "      <td>2724</td>\n",
       "      <td>0</td>\n",
       "      <td>9.528794</td>\n",
       "      <td>1</td>\n",
       "      <td>2.944439</td>\n",
       "      <td>2</td>\n",
       "    </tr>\n",
       "    <tr>\n",
       "      <th>2724</th>\n",
       "      <td>2725</td>\n",
       "      <td>0</td>\n",
       "      <td>11.379394</td>\n",
       "      <td>0</td>\n",
       "      <td>3.970292</td>\n",
       "      <td>2</td>\n",
       "    </tr>\n",
       "    <tr>\n",
       "      <th>2725</th>\n",
       "      <td>2726</td>\n",
       "      <td>0</td>\n",
       "      <td>11.191342</td>\n",
       "      <td>1</td>\n",
       "      <td>3.044522</td>\n",
       "      <td>3</td>\n",
       "    </tr>\n",
       "    <tr>\n",
       "      <th>2726</th>\n",
       "      <td>2727</td>\n",
       "      <td>0</td>\n",
       "      <td>10.532096</td>\n",
       "      <td>1</td>\n",
       "      <td>2.890372</td>\n",
       "      <td>4</td>\n",
       "    </tr>\n",
       "    <tr>\n",
       "      <th>2727</th>\n",
       "      <td>2728</td>\n",
       "      <td>0</td>\n",
       "      <td>11.736069</td>\n",
       "      <td>1</td>\n",
       "      <td>2.833213</td>\n",
       "      <td>3</td>\n",
       "    </tr>\n",
       "  </tbody>\n",
       "</table>\n",
       "<p>2182 rows × 6 columns</p>\n",
       "</div>"
      ],
      "text/plain": [
       "        ID  Visits     Income  Sex       Age  Size\n",
       "0        1       0  11.379394    1  3.871201     2\n",
       "2        3       0  11.082143    0  3.332205     2\n",
       "3        4       0  10.915088    1  3.951244     3\n",
       "4        5       0  10.915088    1  2.833213     3\n",
       "5        6       0  10.915088    0  2.944439     3\n",
       "...    ...     ...        ...  ...       ...   ...\n",
       "2723  2724       0   9.528794    1  2.944439     2\n",
       "2724  2725       0  11.379394    0  3.970292     2\n",
       "2725  2726       0  11.191342    1  3.044522     3\n",
       "2726  2727       0  10.532096    1  2.890372     4\n",
       "2727  2728       0  11.736069    1  2.833213     3\n",
       "\n",
       "[2182 rows x 6 columns]"
      ]
     },
     "execution_count": 8,
     "metadata": {},
     "output_type": "execute_result"
    }
   ],
   "source": [
    "df_train"
   ]
  },
  {
   "cell_type": "code",
   "execution_count": 9,
   "metadata": {},
   "outputs": [],
   "source": [
    "#create d matrices\n",
    "y_train, X_train = dmatrices(expr, df_train, return_type='dataframe')\n",
    "y_test, X_test = dmatrices(expr, df_test, return_type='dataframe')"
   ]
  },
  {
   "cell_type": "code",
   "execution_count": 10,
   "metadata": {},
   "outputs": [],
   "source": [
    "Poisson_results = sm.GLM(y_train, X_train, family=sm.families.Poisson()).fit()"
   ]
  },
  {
   "cell_type": "code",
   "execution_count": 11,
   "metadata": {},
   "outputs": [
    {
     "name": "stdout",
     "output_type": "stream",
     "text": [
      "                 Generalized Linear Model Regression Results                  \n",
      "==============================================================================\n",
      "Dep. Variable:                 Visits   No. Observations:                 2182\n",
      "Model:                            GLM   Df Residuals:                     2177\n",
      "Model Family:                 Poisson   Df Model:                            4\n",
      "Link Function:                    log   Scale:                          1.0000\n",
      "Method:                          IRLS   Log-Likelihood:                -5426.2\n",
      "Date:                Sun, 25 Feb 2024   Deviance:                       9376.1\n",
      "Time:                        12:30:25   Pearson chi2:                 3.60e+04\n",
      "No. Iterations:                     6                                         \n",
      "Covariance Type:            nonrobust                                         \n",
      "==============================================================================\n",
      "                 coef    std err          z      P>|z|      [0.025      0.975]\n",
      "------------------------------------------------------------------------------\n",
      "Intercept     -3.2845      0.441     -7.448      0.000      -4.149      -2.420\n",
      "Income         0.0899      0.037      2.423      0.015       0.017       0.163\n",
      "Sex           -0.0215      0.044     -0.486      0.627      -0.108       0.065\n",
      "Age            0.6355      0.059     10.689      0.000       0.519       0.752\n",
      "Size           0.0014      0.016      0.084      0.933      -0.031       0.033\n",
      "==============================================================================\n"
     ]
    }
   ],
   "source": [
    "print(Poisson_results.summary())"
   ]
  },
  {
   "cell_type": "markdown",
   "metadata": {},
   "source": [
    "1. **Intercept**:\n",
    "   \n",
    "   $\\exp(-3.2845)= 0.0378$\n",
    "\n",
    "   This represents the base count when all predictors are zero.\n",
    "\n",
    "2. **Income**:\n",
    "\n",
    "   $\\exp(0.0899)= 1.094$\n",
    "\n",
    "   This means that for every one-unit increase in income, the expected number of visits is multiplied by 1.094 (or an increase of about 9.4%) while keeping all other variables constant. **statistically significant.**\n",
    "\n",
    "3. **Sex**:\n",
    "\n",
    "   $\\exp(-0.0215)= 0.9786$\n",
    "\n",
    "   Sex=1 multiplies the expected number of visits by 0.9786 (or a decrease of about 2.14%). **Not statistically significant.**\n",
    "\n",
    "4. **Age**:\n",
    "\n",
    "   $\\exp(0.6355) = 1.8882$\n",
    "\n",
    "   For each year increase in age, the expected number of visits multiplies by 1.8882, implying a significant increase in expected visits as age increases. **statistically significant.**\n",
    "\n",
    "5. **Size**:\n",
    "\n",
    "   $\\exp(0.0014)= 1.0014$\n",
    "\n",
    "   For a one-unit increase in size, the expected number of visits is multiplied by 1.0014 (or a minimal increase of about 0.14%). **Not statistically significant.**\n",
    "\n",
    "These multiplicative factors help us understand the relative change in the expected count of the response variable due to a one-unit change in each predictor.\n"
   ]
  },
  {
   "cell_type": "markdown",
   "metadata": {},
   "source": [
    "### Individual Predictions\n",
    "\n",
    "***You don't have to compute this for this homework.***"
   ]
  },
  {
   "cell_type": "markdown",
   "metadata": {},
   "source": [
    "The predict function gives us the following estimation of lambda for each individual. That is, the E(Y), or the expected visit counts for each individual."
   ]
  },
  {
   "cell_type": "markdown",
   "metadata": {},
   "source": [
    "\\begin{equation}\n",
    "\\hat{\\lambda} = \\exp\\left(\\hat{\\beta}_0 + \\hat{\\beta}_1 \\times \\text{income} + \\hat{\\beta}_2 \\times \\text{sex} + \\hat{\\beta}_3 \\times \\text{age} + \\hat{\\beta}_4 \\times \\text{size}\\right)\n",
    "\\end{equation}\n"
   ]
  },
  {
   "cell_type": "code",
   "execution_count": 12,
   "metadata": {},
   "outputs": [
    {
     "data": {
      "text/plain": [
       "1       1.154227\n",
       "7       1.440642\n",
       "11      1.264874\n",
       "12      0.977470\n",
       "33      0.721221\n",
       "          ...   \n",
       "2701    1.392251\n",
       "2705    0.751396\n",
       "2717    0.924969\n",
       "2718    0.573802\n",
       "2720    1.297214\n",
       "Length: 546, dtype: float64"
      ]
     },
     "execution_count": 12,
     "metadata": {},
     "output_type": "execute_result"
    }
   ],
   "source": [
    "## prediction \n",
    "Poisson_predictions = Poisson_results.predict(X_test)\n",
    "Poisson_predictions "
   ]
  },
  {
   "cell_type": "code",
   "execution_count": 13,
   "metadata": {},
   "outputs": [
    {
     "data": {
      "image/png": "[encoded data removed]",
      "text/plain": [
       "<Figure size 432x288 with 1 Axes>"
      ]
     },
     "metadata": {
      "needs_background": "light"
     },
     "output_type": "display_data"
    }
   ],
   "source": [
    "## We can compare them a the individual level\n",
    "plt.scatter(y_test.index, y_test, label=\"actual\")\n",
    "plt.scatter(y_test.index, Poisson_predictions, label=\"predicted\")\n",
    "plt.title(\"Poisson fitting(individual)\")\n",
    "plt.xlabel(\"Customer ID\")\n",
    "plt.ylabel(\"Number of visits\")\n",
    "plt.legend()\n",
    "plt.show()"
   ]
  },
  {
   "cell_type": "code",
   "execution_count": 14,
   "metadata": {},
   "outputs": [
    {
     "data": {
      "image/png": "[encoded data removed]",
      "text/plain": [
       "<Figure size 576x432 with 1 Axes>"
      ]
     },
     "metadata": {
      "needs_background": "light"
     },
     "output_type": "display_data"
    }
   ],
   "source": [
    "# Set up the Matplotlib figure\n",
    "plt.figure(figsize=(8, 6))\n",
    "# Plot the 'poisson_predictions' histogram\n",
    "sns.histplot(x=Poisson_predictions, color='red',  label='Poisson predictions',binwidth =1, alpha=0.5)\n",
    "# Plot the 'actual' histogram\n",
    "sns.histplot(x=y_test.Visits, color='blue', label='Number of visits (actual)',binwidth=1, alpha=0.5)\n",
    "\n",
    "plt.xlabel(\"Number of Visits\")\n",
    "plt.ylabel(\"Count\")\n",
    "plt.legend()\n",
    "plt.show()"
   ]
  },
  {
   "cell_type": "markdown",
   "metadata": {},
   "source": [
    "### [iii] You believe that income will go up by 10 percent in the coming year.  How will it change the number of visits? We aggregated the data at visit level in part (i). Calculate the updated number of visits and plot the bar chart. [15]"
   ]
  },
  {
   "cell_type": "markdown",
   "metadata": {},
   "source": [
    " In this quiz, you were asked to follow the steps to make predictions about the counts:\n",
    "1. Increase the income by 10% for individuals in the test set.\n",
    "2. Estimate $\\hat{\\lambda_i}$  using the predict function for each individual in the test set.\n",
    "3. Plot the distribution of the predicted $\\hat{\\lambda_i}$\n"
   ]
  },
  {
   "cell_type": "markdown",
   "metadata": {},
   "source": [
    "1. Increase by 10 percent on the test set"
   ]
  },
  {
   "cell_type": "code",
   "execution_count": 15,
   "metadata": {},
   "outputs": [],
   "source": [
    "#copy test set\n",
    "X_test_10 = X_test.copy()"
   ]
  },
  {
   "cell_type": "code",
   "execution_count": 16,
   "metadata": {},
   "outputs": [],
   "source": [
    "#increase by 10 percent\n",
    "X_test_10['Income'] = X_test_10['Income']*1.1"
   ]
  },
  {
   "cell_type": "markdown",
   "metadata": {},
   "source": [
    "2. estimate lambda\n",
    "\n"
   ]
  },
  {
   "cell_type": "code",
   "execution_count": 17,
   "metadata": {},
   "outputs": [],
   "source": [
    "Poisson_predictions_income10 = Poisson_results.predict(X_test_10)"
   ]
  },
  {
   "cell_type": "code",
   "execution_count": 18,
   "metadata": {},
   "outputs": [
    {
     "data": {
      "text/plain": [
       "1       1.260243\n",
       "7       1.601030\n",
       "11      1.395351\n",
       "12      1.074592\n",
       "33      0.782572\n",
       "          ...   \n",
       "2701    1.553805\n",
       "2705    0.832375\n",
       "2717    1.020383\n",
       "2718    0.632993\n",
       "2720    1.431027\n",
       "Length: 546, dtype: float64"
      ]
     },
     "execution_count": 18,
     "metadata": {},
     "output_type": "execute_result"
    }
   ],
   "source": [
    "Poisson_predictions_income10"
   ]
  },
  {
   "cell_type": "markdown",
   "metadata": {},
   "source": [
    "3. Plot the distribution of the predicted $\\hat{\\lambda_i}$"
   ]
  },
  {
   "cell_type": "code",
   "execution_count": 19,
   "metadata": {},
   "outputs": [
    {
     "data": {
      "image/png": "[encoded data removed]",
      "text/plain": [
       "<Figure size 576x432 with 1 Axes>"
      ]
     },
     "metadata": {
      "needs_background": "light"
     },
     "output_type": "display_data"
    }
   ],
   "source": [
    "# Set up the Matplotlib figure\n",
    "plt.figure(figsize=(8, 6))\n",
    "# Plot the 'poisson_predictions' histogram\n",
    "sns.histplot(x=Poisson_predictions_income10, color='red',  label='Poisson predictions (10% increase)', alpha=0.5)\n",
    "#compare with previous predictions (no 10% increase in income)\n",
    "#sns.histplot(x=Poisson_predictions, color='blue',  label='Poisson predictions', alpha=0.5)\n",
    "plt.xlabel(\"Number of Visits\")\n",
    "plt.ylabel(\"Count\")\n",
    "plt.legend()\n",
    "plt.show()"
   ]
  },
  {
   "cell_type": "code",
   "execution_count": 20,
   "metadata": {},
   "outputs": [
    {
     "data": {
      "image/png": "[encoded data removed]",
      "text/plain": [
       "<Figure size 576x432 with 1 Axes>"
      ]
     },
     "metadata": {
      "needs_background": "light"
     },
     "output_type": "display_data"
    }
   ],
   "source": [
    "# We can compare it to the predictions for the test set without the 10% increase\n",
    "\n",
    "# Set up the Matplotlib figure\n",
    "plt.figure(figsize=(8, 6))\n",
    "# Plot the 'poisson_predictions' histogram\n",
    "sns.histplot(x=Poisson_predictions_income10, color='red',  label='Poisson predictions (10% increase)', alpha=0.5)\n",
    "#compare with previous predictions (no 10% increase in income)\n",
    "sns.histplot(x=Poisson_predictions, color='blue',  label='Poisson predictions', alpha=0.5)\n",
    "plt.xlabel(\"Number of Visits\")\n",
    "plt.ylabel(\"Count\")\n",
    "plt.legend()\n",
    "plt.show()"
   ]
  },
  {
   "cell_type": "markdown",
   "metadata": {},
   "source": [
    "We note that an increase in income by 10 percent increases the expected number of visits, as expected given the positive significant coefficient in income in our model."
   ]
  },
  {
   "cell_type": "markdown",
   "metadata": {},
   "source": [
    "# Question 2"
   ]
  },
  {
   "cell_type": "markdown",
   "metadata": {},
   "source": [
    "#### 2.\tI am attaching a call center dataset on the number of calls of a call center from people with different income and gender. You see lots of zeros and believe that even though number of calls may follow Poisson model, this is a zero inflated Poisson model (ZIP). "
   ]
  },
  {
   "cell_type": "markdown",
   "metadata": {},
   "source": [
    "#### Explain the mechanism behind zero inflated model. What modification to the Poisson model should be made? Explain clearly. [5]"
   ]
  },
  {
   "cell_type": "markdown",
   "metadata": {},
   "source": [
    "The zero inflated model allows us to model data that has too many zero counts. To accommodate excessive zeros, we have to incorporate a structure which can predict probability of zero incidence. Thus, a Zero inflated Poisson model has two parts:\n",
    "\n",
    "- A PMF P(y_i=0) which is used to calculate the probability of observing a zero count.\n",
    "- A second PMF P(y_i=k) which is used to calculate the probability of observing k events, given that k > 0."
   ]
  },
  {
   "cell_type": "markdown",
   "metadata": {},
   "source": [
    "We can express it as:"
   ]
  },
  {
   "cell_type": "markdown",
   "metadata": {},
   "source": [
    "$${\\displaystyle \\Pr(Y=0)=\\pi +(1-\\pi )e^{-\\lambda }}$$"
   ]
  },
  {
   "cell_type": "markdown",
   "metadata": {},
   "source": [
    "$${\\displaystyle \\Pr(Y=y_{i})=(1-\\pi ){\\frac {\\lambda ^{y_{i}}e^{-\\lambda }}{y_{i}!}},\\qquad y_{i}=1,2,3,...}$$"
   ]
  },
  {
   "cell_type": "markdown",
   "metadata": {},
   "source": [
    "where the outcome variable \n",
    "$y_{i}$ has any non-negative integer value, $\\lambda$  is the expected Poisson count for the  ith individual; $\\pi_i$  is the probability of extra zeros. Probability $\\pi_i$ can be written as a logistics distribution such that:\n",
    "\n",
    "$$\\pi={\\frac{e^{X\\beta}}{1 + e^{X\\beta}}}$$\n",
    "\n",
    "\n",
    "Ref: see https://en.wikipedia.org/wiki/Zero-inflated_model#Discrete_pseudo_compound_Poisson_model"
   ]
  },
  {
   "cell_type": "markdown",
   "metadata": {},
   "source": [
    "#### Estimate the model"
   ]
  },
  {
   "cell_type": "code",
   "execution_count": 21,
   "metadata": {},
   "outputs": [
    {
     "data": {
      "text/html": [
       "<div>\n",
       "<style scoped>\n",
       "    .dataframe tbody tr th:only-of-type {\n",
       "        vertical-align: middle;\n",
       "    }\n",
       "\n",
       "    .dataframe tbody tr th {\n",
       "        vertical-align: top;\n",
       "    }\n",
       "\n",
       "    .dataframe thead th {\n",
       "        text-align: right;\n",
       "    }\n",
       "</style>\n",
       "<table border=\"1\" class=\"dataframe\">\n",
       "  <thead>\n",
       "    <tr style=\"text-align: right;\">\n",
       "      <th></th>\n",
       "      <th>Member id</th>\n",
       "      <th>num_calls</th>\n",
       "      <th>gender</th>\n",
       "      <th>income</th>\n",
       "      <th>log_income</th>\n",
       "    </tr>\n",
       "  </thead>\n",
       "  <tbody>\n",
       "    <tr>\n",
       "      <th>0</th>\n",
       "      <td>1</td>\n",
       "      <td>0</td>\n",
       "      <td>0</td>\n",
       "      <td>305335</td>\n",
       "      <td>12.629165</td>\n",
       "    </tr>\n",
       "    <tr>\n",
       "      <th>1</th>\n",
       "      <td>7</td>\n",
       "      <td>0</td>\n",
       "      <td>0</td>\n",
       "      <td>175512</td>\n",
       "      <td>12.075463</td>\n",
       "    </tr>\n",
       "    <tr>\n",
       "      <th>2</th>\n",
       "      <td>8</td>\n",
       "      <td>0</td>\n",
       "      <td>1</td>\n",
       "      <td>275580</td>\n",
       "      <td>12.526633</td>\n",
       "    </tr>\n",
       "    <tr>\n",
       "      <th>3</th>\n",
       "      <td>11</td>\n",
       "      <td>0</td>\n",
       "      <td>1</td>\n",
       "      <td>96302</td>\n",
       "      <td>11.475244</td>\n",
       "    </tr>\n",
       "    <tr>\n",
       "      <th>4</th>\n",
       "      <td>13</td>\n",
       "      <td>0</td>\n",
       "      <td>1</td>\n",
       "      <td>229042</td>\n",
       "      <td>12.341661</td>\n",
       "    </tr>\n",
       "    <tr>\n",
       "      <th>...</th>\n",
       "      <td>...</td>\n",
       "      <td>...</td>\n",
       "      <td>...</td>\n",
       "      <td>...</td>\n",
       "      <td>...</td>\n",
       "    </tr>\n",
       "    <tr>\n",
       "      <th>59275</th>\n",
       "      <td>30241</td>\n",
       "      <td>39</td>\n",
       "      <td>0</td>\n",
       "      <td>377605</td>\n",
       "      <td>12.841604</td>\n",
       "    </tr>\n",
       "    <tr>\n",
       "      <th>59276</th>\n",
       "      <td>1340</td>\n",
       "      <td>41</td>\n",
       "      <td>0</td>\n",
       "      <td>467444</td>\n",
       "      <td>13.055035</td>\n",
       "    </tr>\n",
       "    <tr>\n",
       "      <th>59277</th>\n",
       "      <td>41050</td>\n",
       "      <td>41</td>\n",
       "      <td>0</td>\n",
       "      <td>408869</td>\n",
       "      <td>12.921150</td>\n",
       "    </tr>\n",
       "    <tr>\n",
       "      <th>59278</th>\n",
       "      <td>30532</td>\n",
       "      <td>56</td>\n",
       "      <td>0</td>\n",
       "      <td>220004</td>\n",
       "      <td>12.301401</td>\n",
       "    </tr>\n",
       "    <tr>\n",
       "      <th>59279</th>\n",
       "      <td>46851</td>\n",
       "      <td>76</td>\n",
       "      <td>1</td>\n",
       "      <td>489949</td>\n",
       "      <td>13.102057</td>\n",
       "    </tr>\n",
       "  </tbody>\n",
       "</table>\n",
       "<p>59280 rows × 5 columns</p>\n",
       "</div>"
      ],
      "text/plain": [
       "       Member id  num_calls  gender  income  log_income\n",
       "0              1          0       0  305335   12.629165\n",
       "1              7          0       0  175512   12.075463\n",
       "2              8          0       1  275580   12.526633\n",
       "3             11          0       1   96302   11.475244\n",
       "4             13          0       1  229042   12.341661\n",
       "...          ...        ...     ...     ...         ...\n",
       "59275      30241         39       0  377605   12.841604\n",
       "59276       1340         41       0  467444   13.055035\n",
       "59277      41050         41       0  408869   12.921150\n",
       "59278      30532         56       0  220004   12.301401\n",
       "59279      46851         76       1  489949   13.102057\n",
       "\n",
       "[59280 rows x 5 columns]"
      ]
     },
     "execution_count": 21,
     "metadata": {},
     "output_type": "execute_result"
    }
   ],
   "source": [
    "#read data\n",
    "df_q2 = pd.read_excel('hw2_S24_data.xlsx',sheet_name='call_center')\n",
    "cols_to_keep = ['Member id', 'No of Calls','Gender (F=1/M=0)','income']\n",
    "df_q2 = df_q2[cols_to_keep].reset_index(drop=True)\n",
    "\n",
    "#compute log of income\n",
    "df_q2['log_income'] = np.log(df_q2.income)\n",
    "df_q2.rename(columns={'No of Calls':'num_calls','Gender (F=1/M=0)':'gender'},inplace=True)\n",
    "df_q2"
   ]
  },
  {
   "cell_type": "code",
   "execution_count": 22,
   "metadata": {},
   "outputs": [
    {
     "name": "stdout",
     "output_type": "stream",
     "text": [
      "Training data set length=47512\n",
      "Testing data set length=11768\n"
     ]
    }
   ],
   "source": [
    "#Create the training and test data sets. \n",
    "np.random.seed(0)\n",
    "mask = np.random.rand(len(df_q2)) < 0.8\n",
    "df_train = df_q2[mask]\n",
    "df_test = df_q2[~mask]\n",
    "print('Training data set length='+str(len(df_train)))\n",
    "print('Testing data set length='+str(len(df_test)))"
   ]
  },
  {
   "cell_type": "markdown",
   "metadata": {},
   "source": [
    "##### (i)\tfirst (model 1), use log of income as a covariate for zero inflation part and the other two as covariates for Poisson model [2.5]"
   ]
  },
  {
   "cell_type": "code",
   "execution_count": 23,
   "metadata": {},
   "outputs": [],
   "source": [
    "#for second part of the model (Poisson)\n",
    "expr = 'num_calls ~ gender + log_income'\n",
    "y_train1, X_train_poisson1 = dmatrices(expr, df_train, return_type='dataframe')\n",
    "y_test1, X_test_poisson1 = dmatrices(expr, df_test, return_type='dataframe')\n",
    "\n",
    "#for  Logit\n",
    "expr = 'num_calls ~ log_income'\n",
    "_, X_train_logit1 = dmatrices(expr, df_train, return_type='dataframe')\n",
    "_, X_test_logit1 = dmatrices(expr, df_test, return_type='dataframe')"
   ]
  },
  {
   "cell_type": "markdown",
   "metadata": {},
   "source": [
    "We want to now fit Zero Inflated model which is a combination of Logit and Poisson"
   ]
  },
  {
   "cell_type": "code",
   "execution_count": 24,
   "metadata": {},
   "outputs": [
    {
     "name": "stderr",
     "output_type": "stream",
     "text": [
      "/opt/anaconda3/lib/python3.7/site-packages/statsmodels/base/model.py:512: ConvergenceWarning: Maximum Likelihood optimization failed to converge. Check mle_retvals\n",
      "  \"Check mle_retvals\", ConvergenceWarning)\n"
     ]
    },
    {
     "name": "stdout",
     "output_type": "stream",
     "text": [
      "Optimization terminated successfully.\n",
      "         Current function value: 1.642125\n",
      "         Iterations: 31\n",
      "         Function evaluations: 35\n",
      "         Gradient evaluations: 35\n"
     ]
    }
   ],
   "source": [
    "# The ZeroInflatedPoisson model class will internally use a LogisticRegression model to \n",
    "#estimate the parameter ϕ. Hence we set the model parameter inflation to ’logit’\n",
    "zip_training_results1 = sm.ZeroInflatedPoisson(endog=y_train1\n",
    "                                               , exog=X_train_poisson1\n",
    "                                               , exog_infl=X_train_logit1\n",
    "                                               , inflation='logit').fit(maxiter=100)"
   ]
  },
  {
   "cell_type": "code",
   "execution_count": 25,
   "metadata": {},
   "outputs": [
    {
     "name": "stdout",
     "output_type": "stream",
     "text": [
      "                     ZeroInflatedPoisson Regression Results                    \n",
      "===============================================================================\n",
      "Dep. Variable:               num_calls   No. Observations:                47512\n",
      "Model:             ZeroInflatedPoisson   Df Residuals:                    47509\n",
      "Method:                            MLE   Df Model:                            2\n",
      "Date:                 Sun, 25 Feb 2024   Pseudo R-squ.:               1.999e-05\n",
      "Time:                         12:30:34   Log-Likelihood:                -78021.\n",
      "converged:                        True   LL-Null:                       -78022.\n",
      "Covariance Type:             nonrobust   LLR p-value:                    0.2102\n",
      "======================================================================================\n",
      "                         coef    std err          z      P>|z|      [0.025      0.975]\n",
      "--------------------------------------------------------------------------------------\n",
      "inflate_Intercept      0.1531      0.148      1.034      0.301      -0.137       0.443\n",
      "inflate_log_income    -0.0090      0.012     -0.747      0.455      -0.033       0.015\n",
      "Intercept              0.8271      0.069     11.925      0.000       0.691       0.963\n",
      "gender                 0.0082      0.009      0.887      0.375      -0.010       0.026\n",
      "log_income             0.0067      0.006      1.177      0.239      -0.004       0.018\n",
      "======================================================================================\n"
     ]
    }
   ],
   "source": [
    "print(zip_training_results1.summary())"
   ]
  },
  {
   "cell_type": "markdown",
   "metadata": {},
   "source": [
    "##### (ii)\tand second (model 2), use Gender as covariate for zero inflation part and the other two for Poisson model [2.5]"
   ]
  },
  {
   "cell_type": "code",
   "execution_count": 26,
   "metadata": {},
   "outputs": [],
   "source": [
    "#for second part of the model (Poisson)\n",
    "expr = 'num_calls ~ gender + log_income'\n",
    "y_train2, X_train_poisson2 = dmatrices(expr, df_train, return_type='dataframe')\n",
    "y_test2, X_test_poisson2 = dmatrices(expr, df_test, return_type='dataframe')\n",
    "\n",
    "#for logit\n",
    "expr = 'num_calls ~ gender'\n",
    "_,X_train_logit2 = dmatrices(expr, df_train, return_type='dataframe')\n",
    "_,X_test_logit2 = dmatrices(expr, df_test, return_type='dataframe')"
   ]
  },
  {
   "cell_type": "markdown",
   "metadata": {},
   "source": [
    "We want to now fit Zero Inflated model which is a combination of Logit and Poisson"
   ]
  },
  {
   "cell_type": "code",
   "execution_count": 27,
   "metadata": {},
   "outputs": [
    {
     "name": "stderr",
     "output_type": "stream",
     "text": [
      "/opt/anaconda3/lib/python3.7/site-packages/statsmodels/base/model.py:512: ConvergenceWarning: Maximum Likelihood optimization failed to converge. Check mle_retvals\n",
      "  \"Check mle_retvals\", ConvergenceWarning)\n"
     ]
    },
    {
     "name": "stdout",
     "output_type": "stream",
     "text": [
      "Optimization terminated successfully.\n",
      "         Current function value: 1.642127\n",
      "         Iterations: 26\n",
      "         Function evaluations: 29\n",
      "         Gradient evaluations: 29\n"
     ]
    }
   ],
   "source": [
    "#The ZeroInflatedPoisson model class will internally use a LogisticRegression model to \n",
    "#estimate the parameter ϕ. Hence we set the model parameter inflation to ’logit’\n",
    "zip_training_results2 = sm.ZeroInflatedPoisson(endog=y_train2\n",
    "                                               , exog=X_train_poisson2\n",
    "                                               , exog_infl=X_train_logit2\n",
    "                                               , inflation='logit').fit(maxiter=100)"
   ]
  },
  {
   "cell_type": "code",
   "execution_count": 28,
   "metadata": {},
   "outputs": [
    {
     "name": "stdout",
     "output_type": "stream",
     "text": [
      "                     ZeroInflatedPoisson Regression Results                    \n",
      "===============================================================================\n",
      "Dep. Variable:               num_calls   No. Observations:                47512\n",
      "Model:             ZeroInflatedPoisson   Df Residuals:                    47509\n",
      "Method:                            MLE   Df Model:                            2\n",
      "Date:                 Sun, 25 Feb 2024   Pseudo R-squ.:               1.880e-05\n",
      "Time:                         12:30:37   Log-Likelihood:                -78021.\n",
      "converged:                        True   LL-Null:                       -78022.\n",
      "Covariance Type:             nonrobust   LLR p-value:                    0.2307\n",
      "=====================================================================================\n",
      "                        coef    std err          z      P>|z|      [0.025      0.975]\n",
      "-------------------------------------------------------------------------------------\n",
      "inflate_Intercept     0.0368      0.014      2.614      0.009       0.009       0.064\n",
      "inflate_gender        0.0120      0.020      0.602      0.547      -0.027       0.051\n",
      "Intercept             0.8159      0.069     11.749      0.000       0.680       0.952\n",
      "gender                0.0093      0.009      1.009      0.313      -0.009       0.027\n",
      "log_income            0.0075      0.006      1.330      0.183      -0.004       0.019\n",
      "=====================================================================================\n"
     ]
    }
   ],
   "source": [
    "print(zip_training_results2.summary())"
   ]
  },
  {
   "cell_type": "markdown",
   "metadata": {},
   "source": [
    "### Can you explain what the economic meaning of these covariates is? "
   ]
  },
  {
   "cell_type": "markdown",
   "metadata": {},
   "source": [
    "We observe that, for the case of model (i), the coefficent in log income for the logit part is not significant, meaning, we don't find evidence that it has a relation with the probability of having a call. Neither the gender nor the log of income, for the poisson part, have a significant impact in the number of calls.\n",
    "\n",
    "It is similar for the case of model (i), where none of the covariates for either the logit or Poisson seem to influence the probability and the mean expected counts respectively."
   ]
  },
  {
   "cell_type": "markdown",
   "metadata": {},
   "source": [
    "The covariate gender or age in our model do not seem to affect the probability of having a call. Intercept is significant only on second model."
   ]
  },
  {
   "cell_type": "markdown",
   "metadata": {},
   "source": [
    "### Plot the actual and predicted values, and the show the deviance. Which model (model 1 or 2) seems like a better fit? [5]"
   ]
  },
  {
   "cell_type": "markdown",
   "metadata": {},
   "source": [
    "Using Means"
   ]
  },
  {
   "cell_type": "code",
   "execution_count": 29,
   "metadata": {},
   "outputs": [
    {
     "data": {
      "image/png": "[encoded data removed]",
      "text/plain": [
       "<Figure size 432x288 with 1 Axes>"
      ]
     },
     "metadata": {
      "needs_background": "light"
     },
     "output_type": "display_data"
    },
    {
     "name": "stdout",
     "output_type": "stream",
     "text": [
      "Total number of predicted calls (Model 1):  14341.585375283634\n",
      "Total number of actual calls:  14190.0\n"
     ]
    }
   ],
   "source": [
    "#ZIP PREDICTIONS FOR MODEL 1\n",
    "y_test1['zip1_hh_predictions'] = zip_training_results1.predict(exog=X_test_poisson1,exog_infl=X_test_logit1)\n",
    "\n",
    "#ZIP PLOT FOR MODEL 1\n",
    "plt.title(\"Predicted with MODEL 1\")\n",
    "sns.histplot(data=y_test1,x='zip1_hh_predictions',color='red')\n",
    "plt.show()\n",
    "print(\"Total number of predicted calls (Model 1): \", y_test1.zip1_hh_predictions.sum())\n",
    "print(\"Total number of actual calls: \", y_test1.num_calls.sum())"
   ]
  },
  {
   "cell_type": "code",
   "execution_count": 30,
   "metadata": {},
   "outputs": [
    {
     "data": {
      "image/png": "[encoded data removed]",
      "text/plain": [
       "<Figure size 432x288 with 1 Axes>"
      ]
     },
     "metadata": {
      "needs_background": "light"
     },
     "output_type": "display_data"
    },
    {
     "name": "stdout",
     "output_type": "stream",
     "text": [
      "Total number of predicted calls (Model 2):  14340.912416192854\n",
      "Total number of actual calls:  14190.0\n"
     ]
    }
   ],
   "source": [
    "#ZIP PREDICTIONS FOR MODEL 2\n",
    "y_test2['zip2_hh_predictions'] = zip_training_results2.predict(exog=X_test_poisson2,exog_infl=X_test_logit2)\n",
    "\n",
    "#ZIP PLOT FOR MODEL 2\n",
    "plt.title(\"Predicted with MODEL 2\")\n",
    "#plt.hist(y_test2.num_calls, 40,color='blue',rwidth=0.3)\n",
    "sns.histplot(data=y_test2,x='zip2_hh_predictions',color='red')\n",
    "plt.show()\n",
    "print(\"Total number of predicted calls (Model 2): \", y_test2.zip2_hh_predictions.sum())\n",
    "print(\"Total number of actual calls: \", y_test2.num_calls.sum())"
   ]
  },
  {
   "cell_type": "markdown",
   "metadata": {},
   "source": [
    "As before, since the covariates do not explain the variation much for both models, both the average predictions gravitate towards mean which is about 1.2. We can also see this in similar values for likelihood function. Hence individual predictions are poor. Unless we aggegate the data (number of 0, 1, 2 and so on) and do PMF with the distrbution that we define for zero inflated, we will not see a good fit.\n"
   ]
  }
 ],
 "metadata": {
  "kernelspec": {
   "display_name": "Python 3",
   "language": "python",
   "name": "python3"
  },
  "language_info": {
   "codemirror_mode": {
    "name": "ipython",
    "version": 3
   },
   "file_extension": ".py",
   "mimetype": "text/x-python",
   "name": "python",
   "nbconvert_exporter": "python",
   "pygments_lexer": "ipython3",
   "version": "3.7.4"
  }
 },
 "nbformat": 4,
 "nbformat_minor": 2
}
