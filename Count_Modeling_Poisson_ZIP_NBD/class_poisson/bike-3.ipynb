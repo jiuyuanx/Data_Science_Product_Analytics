{
 "cells": [
  {
   "cell_type": "code",
   "execution_count": 1,
   "id": "93ef581b",
   "metadata": {},
   "outputs": [],
   "source": [
    "import pandas as pd\n",
    "from patsy import dmatrices\n",
    "import numpy as np\n",
    "import statsmodels.api as sm\n",
    "import matplotlib.pyplot as plt\n",
    "\n",
    "\n",
    "\n",
    "\n"
   ]
  },
  {
   "cell_type": "code",
   "execution_count": 2,
   "id": "703facc1",
   "metadata": {},
   "outputs": [
    {
     "data": {
      "text/html": [
       "<div>\n",
       "<style scoped>\n",
       "    .dataframe tbody tr th:only-of-type {\n",
       "        vertical-align: middle;\n",
       "    }\n",
       "\n",
       "    .dataframe tbody tr th {\n",
       "        vertical-align: top;\n",
       "    }\n",
       "\n",
       "    .dataframe thead th {\n",
       "        text-align: right;\n",
       "    }\n",
       "</style>\n",
       "<table border=\"1\" class=\"dataframe\">\n",
       "  <thead>\n",
       "    <tr style=\"text-align: right;\">\n",
       "      <th></th>\n",
       "      <th>HIGH_T</th>\n",
       "      <th>LOW_T</th>\n",
       "      <th>PRECIP</th>\n",
       "      <th>BB_COUNT</th>\n",
       "    </tr>\n",
       "    <tr>\n",
       "      <th>Date</th>\n",
       "      <th></th>\n",
       "      <th></th>\n",
       "      <th></th>\n",
       "      <th></th>\n",
       "    </tr>\n",
       "  </thead>\n",
       "  <tbody>\n",
       "    <tr>\n",
       "      <th>2017-04-01</th>\n",
       "      <td>46.0</td>\n",
       "      <td>37.0</td>\n",
       "      <td>0.00</td>\n",
       "      <td>606</td>\n",
       "    </tr>\n",
       "    <tr>\n",
       "      <th>2017-04-02</th>\n",
       "      <td>62.1</td>\n",
       "      <td>41.0</td>\n",
       "      <td>0.00</td>\n",
       "      <td>2021</td>\n",
       "    </tr>\n",
       "    <tr>\n",
       "      <th>2017-04-03</th>\n",
       "      <td>63.0</td>\n",
       "      <td>50.0</td>\n",
       "      <td>0.03</td>\n",
       "      <td>2470</td>\n",
       "    </tr>\n",
       "    <tr>\n",
       "      <th>2017-04-04</th>\n",
       "      <td>51.1</td>\n",
       "      <td>46.0</td>\n",
       "      <td>1.18</td>\n",
       "      <td>723</td>\n",
       "    </tr>\n",
       "    <tr>\n",
       "      <th>2017-04-05</th>\n",
       "      <td>63.0</td>\n",
       "      <td>46.0</td>\n",
       "      <td>0.00</td>\n",
       "      <td>2807</td>\n",
       "    </tr>\n",
       "  </tbody>\n",
       "</table>\n",
       "</div>"
      ],
      "text/plain": [
       "            HIGH_T  LOW_T  PRECIP  BB_COUNT\n",
       "Date                                       \n",
       "2017-04-01    46.0   37.0    0.00       606\n",
       "2017-04-02    62.1   41.0    0.00      2021\n",
       "2017-04-03    63.0   50.0    0.03      2470\n",
       "2017-04-04    51.1   46.0    1.18       723\n",
       "2017-04-05    63.0   46.0    0.00      2807"
      ]
     },
     "execution_count": 2,
     "metadata": {},
     "output_type": "execute_result"
    }
   ],
   "source": [
    "#Create a pandas DataFrame for the counts data set.\n",
    "df = pd.read_csv('nyc_bb_bicyclist_counts.csv', header=0, infer_datetime_format=True, parse_dates=[0], index_col=[0])\n",
    "df.head(5)\n"
   ]
  },
  {
   "cell_type": "code",
   "execution_count": 3,
   "id": "ddbaba34",
   "metadata": {},
   "outputs": [
    {
     "data": {
      "text/html": [
       "<div>\n",
       "<style scoped>\n",
       "    .dataframe tbody tr th:only-of-type {\n",
       "        vertical-align: middle;\n",
       "    }\n",
       "\n",
       "    .dataframe tbody tr th {\n",
       "        vertical-align: top;\n",
       "    }\n",
       "\n",
       "    .dataframe thead th {\n",
       "        text-align: right;\n",
       "    }\n",
       "</style>\n",
       "<table border=\"1\" class=\"dataframe\">\n",
       "  <thead>\n",
       "    <tr style=\"text-align: right;\">\n",
       "      <th></th>\n",
       "      <th>HIGH_T</th>\n",
       "      <th>LOW_T</th>\n",
       "      <th>PRECIP</th>\n",
       "      <th>BB_COUNT</th>\n",
       "      <th>MONTH</th>\n",
       "      <th>DAY_OF_WEEK</th>\n",
       "      <th>DAY</th>\n",
       "    </tr>\n",
       "    <tr>\n",
       "      <th>Date</th>\n",
       "      <th></th>\n",
       "      <th></th>\n",
       "      <th></th>\n",
       "      <th></th>\n",
       "      <th></th>\n",
       "      <th></th>\n",
       "      <th></th>\n",
       "    </tr>\n",
       "  </thead>\n",
       "  <tbody>\n",
       "    <tr>\n",
       "      <th>2017-06-10</th>\n",
       "      <td>84.0</td>\n",
       "      <td>68.0</td>\n",
       "      <td>0.00</td>\n",
       "      <td>3066</td>\n",
       "      <td>6</td>\n",
       "      <td>5</td>\n",
       "      <td>10</td>\n",
       "    </tr>\n",
       "    <tr>\n",
       "      <th>2017-06-11</th>\n",
       "      <td>90.0</td>\n",
       "      <td>73.0</td>\n",
       "      <td>0.00</td>\n",
       "      <td>2465</td>\n",
       "      <td>6</td>\n",
       "      <td>6</td>\n",
       "      <td>11</td>\n",
       "    </tr>\n",
       "    <tr>\n",
       "      <th>2017-06-12</th>\n",
       "      <td>91.9</td>\n",
       "      <td>77.0</td>\n",
       "      <td>0.00</td>\n",
       "      <td>2854</td>\n",
       "      <td>6</td>\n",
       "      <td>0</td>\n",
       "      <td>12</td>\n",
       "    </tr>\n",
       "    <tr>\n",
       "      <th>2017-06-13</th>\n",
       "      <td>93.9</td>\n",
       "      <td>78.1</td>\n",
       "      <td>0.01</td>\n",
       "      <td>2882</td>\n",
       "      <td>6</td>\n",
       "      <td>1</td>\n",
       "      <td>13</td>\n",
       "    </tr>\n",
       "    <tr>\n",
       "      <th>2017-06-14</th>\n",
       "      <td>84.0</td>\n",
       "      <td>69.1</td>\n",
       "      <td>0.29</td>\n",
       "      <td>2596</td>\n",
       "      <td>6</td>\n",
       "      <td>2</td>\n",
       "      <td>14</td>\n",
       "    </tr>\n",
       "    <tr>\n",
       "      <th>2017-06-15</th>\n",
       "      <td>75.0</td>\n",
       "      <td>66.0</td>\n",
       "      <td>0.00</td>\n",
       "      <td>3510</td>\n",
       "      <td>6</td>\n",
       "      <td>3</td>\n",
       "      <td>15</td>\n",
       "    </tr>\n",
       "    <tr>\n",
       "      <th>2017-06-16</th>\n",
       "      <td>68.0</td>\n",
       "      <td>66.0</td>\n",
       "      <td>0.00</td>\n",
       "      <td>2054</td>\n",
       "      <td>6</td>\n",
       "      <td>4</td>\n",
       "      <td>16</td>\n",
       "    </tr>\n",
       "    <tr>\n",
       "      <th>2017-06-17</th>\n",
       "      <td>73.0</td>\n",
       "      <td>66.9</td>\n",
       "      <td>1.39</td>\n",
       "      <td>1399</td>\n",
       "      <td>6</td>\n",
       "      <td>5</td>\n",
       "      <td>17</td>\n",
       "    </tr>\n",
       "    <tr>\n",
       "      <th>2017-06-18</th>\n",
       "      <td>84.0</td>\n",
       "      <td>72.0</td>\n",
       "      <td>0.01</td>\n",
       "      <td>2199</td>\n",
       "      <td>6</td>\n",
       "      <td>6</td>\n",
       "      <td>18</td>\n",
       "    </tr>\n",
       "    <tr>\n",
       "      <th>2017-06-19</th>\n",
       "      <td>87.1</td>\n",
       "      <td>70.0</td>\n",
       "      <td>1.35</td>\n",
       "      <td>1648</td>\n",
       "      <td>6</td>\n",
       "      <td>0</td>\n",
       "      <td>19</td>\n",
       "    </tr>\n",
       "  </tbody>\n",
       "</table>\n",
       "</div>"
      ],
      "text/plain": [
       "            HIGH_T  LOW_T  PRECIP  BB_COUNT  MONTH  DAY_OF_WEEK  DAY\n",
       "Date                                                                \n",
       "2017-06-10    84.0   68.0    0.00      3066      6            5   10\n",
       "2017-06-11    90.0   73.0    0.00      2465      6            6   11\n",
       "2017-06-12    91.9   77.0    0.00      2854      6            0   12\n",
       "2017-06-13    93.9   78.1    0.01      2882      6            1   13\n",
       "2017-06-14    84.0   69.1    0.29      2596      6            2   14\n",
       "2017-06-15    75.0   66.0    0.00      3510      6            3   15\n",
       "2017-06-16    68.0   66.0    0.00      2054      6            4   16\n",
       "2017-06-17    73.0   66.9    1.39      1399      6            5   17\n",
       "2017-06-18    84.0   72.0    0.01      2199      6            6   18\n",
       "2017-06-19    87.1   70.0    1.35      1648      6            0   19"
      ]
     },
     "execution_count": 3,
     "metadata": {},
     "output_type": "execute_result"
    }
   ],
   "source": [
    "#solit data into month, day of the week and day variables.\n",
    "ds = df.index.to_series()\n",
    "df['MONTH'] = ds.dt.month\n",
    "df['DAY_OF_WEEK'] = ds.dt.dayofweek\n",
    "df['DAY'] = ds.dt.day\n",
    "df[70:80]"
   ]
  },
  {
   "cell_type": "code",
   "execution_count": 4,
   "id": "314dfc8c",
   "metadata": {},
   "outputs": [
    {
     "name": "stdout",
     "output_type": "stream",
     "text": [
      "Training data set length=178\n",
      "Testing data set length=36\n"
     ]
    }
   ],
   "source": [
    "\n",
    "#Create the training and testing data sets.\n",
    "mask = np.random.rand(len(df)) < 0.8\n",
    "df_train = df[mask]\n",
    "df_test = df[~mask]\n",
    "print('Training data set length='+str(len(df_train)))\n",
    "print('Testing data set length='+str(len(df_test)))"
   ]
  },
  {
   "cell_type": "code",
   "execution_count": 5,
   "id": "aeb3265e",
   "metadata": {},
   "outputs": [
    {
     "name": "stdout",
     "output_type": "stream",
     "text": [
      "                 Generalized Linear Model Regression Results                  \n",
      "==============================================================================\n",
      "Dep. Variable:               BB_COUNT   No. Observations:                  178\n",
      "Model:                            GLM   Df Residuals:                      171\n",
      "Model Family:                 Poisson   Df Model:                            6\n",
      "Link Function:                    Log   Scale:                          1.0000\n",
      "Method:                          IRLS   Log-Likelihood:                -13181.\n",
      "Date:                Sun, 18 Feb 2024   Deviance:                       24644.\n",
      "Time:                        22:07:22   Pearson chi2:                 2.46e+04\n",
      "No. Iterations:                     6   Pseudo R-squ. (CS):              1.000\n",
      "Covariance Type:            nonrobust                                         \n",
      "===============================================================================\n",
      "                  coef    std err          z      P>|z|      [0.025      0.975]\n",
      "-------------------------------------------------------------------------------\n",
      "Intercept       7.0891      0.013    558.900      0.000       7.064       7.114\n",
      "DAY             0.0013      0.000      7.753      0.000       0.001       0.002\n",
      "DAY_OF_WEEK    -0.0213      0.001    -30.005      0.000      -0.023      -0.020\n",
      "MONTH           0.0112      0.001     15.032      0.000       0.010       0.013\n",
      "HIGH_T          0.0214      0.000     65.856      0.000       0.021       0.022\n",
      "LOW_T          -0.0122      0.000    -34.333      0.000      -0.013      -0.011\n",
      "PRECIP         -0.8505      0.008   -109.914      0.000      -0.866      -0.835\n",
      "===============================================================================\n"
     ]
    }
   ],
   "source": [
    "\n",
    "#Setup the regression expression in patsy notation. BB_COUNT is our dependent variable and\n",
    "# it depends on the regression variables: DAY, DAY_OF_WEEK, MONTH, HIGH_T, LOW_T and PRECIP.\n",
    "expr = \"\"\"BB_COUNT ~ DAY  + DAY_OF_WEEK + MONTH + HIGH_T + LOW_T + PRECIP\"\"\"\n",
    "\n",
    "#Set up the X and y matrices (endogenouts and exogeneous)\n",
    "\n",
    "y_train, X_train = dmatrices(expr, df_train, return_type='dataframe')\n",
    "y_test, X_test = dmatrices(expr, df_test, return_type='dataframe')\n",
    "\n",
    "#Using the statsmodels GLM class, we first train the Poisson regression model on the training data set.\n",
    "poisson_training_results = sm.GLM(y_train, X_train, family=sm.families.Poisson()).fit()\n",
    "\n",
    "#Print the summary.\n",
    "print(poisson_training_results.summary())\n"
   ]
  },
  {
   "cell_type": "code",
   "execution_count": 6,
   "id": "3bc056a9",
   "metadata": {},
   "outputs": [
    {
     "data": {
      "text/html": [
       "<div>\n",
       "<style scoped>\n",
       "    .dataframe tbody tr th:only-of-type {\n",
       "        vertical-align: middle;\n",
       "    }\n",
       "\n",
       "    .dataframe tbody tr th {\n",
       "        vertical-align: top;\n",
       "    }\n",
       "\n",
       "    .dataframe thead th {\n",
       "        text-align: right;\n",
       "    }\n",
       "</style>\n",
       "<table border=\"1\" class=\"dataframe\">\n",
       "  <thead>\n",
       "    <tr style=\"text-align: right;\">\n",
       "      <th></th>\n",
       "      <th>Intercept</th>\n",
       "      <th>DAY</th>\n",
       "      <th>DAY_OF_WEEK</th>\n",
       "      <th>MONTH</th>\n",
       "      <th>HIGH_T</th>\n",
       "      <th>LOW_T</th>\n",
       "      <th>PRECIP</th>\n",
       "    </tr>\n",
       "    <tr>\n",
       "      <th>Date</th>\n",
       "      <th></th>\n",
       "      <th></th>\n",
       "      <th></th>\n",
       "      <th></th>\n",
       "      <th></th>\n",
       "      <th></th>\n",
       "      <th></th>\n",
       "    </tr>\n",
       "  </thead>\n",
       "  <tbody>\n",
       "    <tr>\n",
       "      <th>2017-04-01</th>\n",
       "      <td>1.0</td>\n",
       "      <td>1.0</td>\n",
       "      <td>5.0</td>\n",
       "      <td>4.0</td>\n",
       "      <td>46.0</td>\n",
       "      <td>37.0</td>\n",
       "      <td>0.00</td>\n",
       "    </tr>\n",
       "    <tr>\n",
       "      <th>2017-04-02</th>\n",
       "      <td>1.0</td>\n",
       "      <td>2.0</td>\n",
       "      <td>6.0</td>\n",
       "      <td>4.0</td>\n",
       "      <td>62.1</td>\n",
       "      <td>41.0</td>\n",
       "      <td>0.00</td>\n",
       "    </tr>\n",
       "    <tr>\n",
       "      <th>2017-04-03</th>\n",
       "      <td>1.0</td>\n",
       "      <td>3.0</td>\n",
       "      <td>0.0</td>\n",
       "      <td>4.0</td>\n",
       "      <td>63.0</td>\n",
       "      <td>50.0</td>\n",
       "      <td>0.03</td>\n",
       "    </tr>\n",
       "    <tr>\n",
       "      <th>2017-04-05</th>\n",
       "      <td>1.0</td>\n",
       "      <td>5.0</td>\n",
       "      <td>2.0</td>\n",
       "      <td>4.0</td>\n",
       "      <td>63.0</td>\n",
       "      <td>46.0</td>\n",
       "      <td>0.00</td>\n",
       "    </tr>\n",
       "    <tr>\n",
       "      <th>2017-04-06</th>\n",
       "      <td>1.0</td>\n",
       "      <td>6.0</td>\n",
       "      <td>3.0</td>\n",
       "      <td>4.0</td>\n",
       "      <td>48.9</td>\n",
       "      <td>41.0</td>\n",
       "      <td>0.73</td>\n",
       "    </tr>\n",
       "  </tbody>\n",
       "</table>\n",
       "</div>"
      ],
      "text/plain": [
       "            Intercept  DAY  DAY_OF_WEEK  MONTH  HIGH_T  LOW_T  PRECIP\n",
       "Date                                                                 \n",
       "2017-04-01        1.0  1.0          5.0    4.0    46.0   37.0    0.00\n",
       "2017-04-02        1.0  2.0          6.0    4.0    62.1   41.0    0.00\n",
       "2017-04-03        1.0  3.0          0.0    4.0    63.0   50.0    0.03\n",
       "2017-04-05        1.0  5.0          2.0    4.0    63.0   46.0    0.00\n",
       "2017-04-06        1.0  6.0          3.0    4.0    48.9   41.0    0.73"
      ]
     },
     "execution_count": 6,
     "metadata": {},
     "output_type": "execute_result"
    }
   ],
   "source": [
    "X_train.head(5)"
   ]
  },
  {
   "cell_type": "code",
   "execution_count": 7,
   "id": "6698c4d6",
   "metadata": {},
   "outputs": [
    {
     "name": "stdout",
     "output_type": "stream",
     "text": [
      "                   mean    mean_se  mean_ci_lower  mean_ci_upper\n",
      "Date                                                            \n",
      "2017-04-04   771.882203   7.190798     757.916385     786.105363\n",
      "2017-04-07  1908.356616  10.244651    1888.382733    1928.541769\n",
      "2017-04-08  2320.486512  10.750464    2299.511364    2341.652986\n",
      "2017-04-19  2150.750953   9.816586    2131.596602    2170.077425\n",
      "2017-04-27  2548.883427   9.350400    2530.622707    2567.275915\n",
      "2017-05-04  2508.113387   8.654692    2491.207734    2525.133763\n",
      "2017-05-08  2511.914149  10.844262    2490.749454    2533.258687\n",
      "2017-05-15  2744.125892   9.101181    2726.345756    2762.021982\n",
      "2017-05-16  3336.963617  11.255547    3314.975910    3359.097164\n",
      "2017-05-27  2576.201085   8.750782    2559.106834    2593.409521\n",
      "2017-05-29  2063.170646  10.706415    2042.292810    2084.261910\n",
      "2017-06-02  2742.433061   8.208737    2726.391333    2758.569176\n",
      "2017-06-04  2169.167681   8.629215    2152.320494    2186.146739\n",
      "2017-06-09  3230.707338  10.187459    3210.801862    3250.736219\n",
      "2017-06-18  2881.819964   9.718994    2862.833904    2900.931939\n",
      "2017-06-23  2748.219907  10.191187    2728.317960    2768.267030\n",
      "2017-06-30  3251.820787  11.622140    3229.121409    3274.679732\n",
      "2017-07-05  3243.986076   9.164060    3226.074480    3261.997119\n",
      "2017-07-07   627.637064   8.363246     611.457598     644.244646\n",
      "2017-07-13  3267.375295   9.516632    3248.776176    3286.080892\n",
      "2017-07-23  2447.411918  10.311249    2427.285454    2467.705266\n",
      "2017-07-25  2759.158958   8.865632    2741.837240    2776.590107\n",
      "2017-07-29  2688.439640   9.602736    2669.684350    2707.326691\n",
      "2017-08-04  2683.385855   7.936331    2667.875928    2698.985950\n",
      "2017-08-16  3372.804509   7.177182    3358.766783    3386.900903\n",
      "2017-08-21  3415.512435  10.682141    3394.639861    3436.513348\n",
      "2017-08-23  3004.412571   8.083266    2988.611358    3020.297327\n",
      "2017-08-24  3086.811005   6.793153    3073.525343    3100.154095\n",
      "2017-08-31  3331.623856  11.316293    3309.517993    3353.877374\n",
      "2017-09-21  2991.909001   8.141498    2975.994434    3007.908673\n",
      "2017-09-23  3387.412750  11.219029    3365.495072    3409.473166\n",
      "2017-09-26  3353.918845  10.442468    3333.514305    3374.448282\n",
      "2017-09-29  2713.714051   9.777380    2694.618241    2732.945186\n",
      "2017-10-11  2803.058967   7.754543    2787.901471    2818.298872\n",
      "2017-10-20  2983.916990   9.363333    2965.621513    3002.325336\n",
      "2017-10-30  2092.134110  12.011428    2068.724102    2115.809028\n"
     ]
    }
   ],
   "source": [
    "\n",
    "\n",
    "#Make some predictions on the test data set.\n",
    "poisson_predictions = poisson_training_results.get_prediction(X_test)\n",
    "#.summary_frame() returns a pandas DataFrame\n",
    "predictions_summary_frame = poisson_predictions.summary_frame()\n",
    "print(predictions_summary_frame)\n",
    "\n"
   ]
  },
  {
   "cell_type": "markdown",
   "id": "2f6352b3",
   "metadata": {},
   "source": [
    "predicted counts versus the actual counts for the test data."
   ]
  },
  {
   "cell_type": "code",
   "execution_count": 8,
   "id": "04cf287f",
   "metadata": {
    "scrolled": true
   },
   "outputs": [
    {
     "data": {
      "image/png": "[encoded data removed]",
      "text/plain": [
       "<Figure size 640x480 with 1 Axes>"
      ]
     },
     "metadata": {},
     "output_type": "display_data"
    }
   ],
   "source": [
    "predicted_counts=predictions_summary_frame['mean']\n",
    "actual_counts = y_test['BB_COUNT']\n",
    "#Mlot the predicted counts versus the actual counts for the test data.\n",
    "fig = plt.figure()\n",
    "fig.suptitle('Predicted versus actual bicyclist counts on the Brooklyn bridge')\n",
    "predicted, = plt.plot(X_test.index, predicted_counts, 'go-', label='Predicted counts')\n",
    "actual, = plt.plot(X_test.index, actual_counts, 'ro-', label='Actual counts')\n",
    "plt.legend(handles=[predicted, actual])\n",
    "plt.show()\n",
    "\n"
   ]
  },
  {
   "cell_type": "markdown",
   "id": "354e5917",
   "metadata": {},
   "source": [
    "We can have scatter plot of Actual versus Predicted counts. This is based on scale of actual and predicted counts "
   ]
  },
  {
   "cell_type": "code",
   "execution_count": 9,
   "id": "c339eba5",
   "metadata": {},
   "outputs": [
    {
     "data": {
      "text/plain": [
       "<Figure size 640x480 with 0 Axes>"
      ]
     },
     "metadata": {},
     "output_type": "display_data"
    },
    {
     "data": {
      "image/png": "[encoded data removed]",
      "text/plain": [
       "<Figure size 640x480 with 1 Axes>"
      ]
     },
     "metadata": {},
     "output_type": "display_data"
    }
   ],
   "source": [
    "\n",
    "plt.clf()\n",
    "fig = plt.figure()\n",
    "fig.suptitle('Scatter plot of Actual versus Predicted counts')\n",
    "plt.scatter(x=predicted_counts, y=actual_counts, marker='.')\n",
    "plt.xlabel('Predicted counts')\n",
    "plt.ylabel('Actual counts')\n",
    "plt.show()"
   ]
  },
  {
   "cell_type": "code",
   "execution_count": 23,
   "id": "c646ce9f",
   "metadata": {},
   "outputs": [
    {
     "name": "stdout",
     "output_type": "stream",
     "text": [
      "Warning: Desired error not necessarily achieved due to precision loss.\n",
      "         Current function value: 7.904086\n",
      "         Iterations: 22\n",
      "         Function evaluations: 119\n",
      "         Gradient evaluations: 107\n"
     ]
    },
    {
     "name": "stderr",
     "output_type": "stream",
     "text": [
      "C:\\Users\\rtelang\\Anaconda3\\lib\\site-packages\\statsmodels\\base\\model.py:604: ConvergenceWarning: Maximum Likelihood optimization failed to converge. Check mle_retvals\n",
      "  warnings.warn(\"Maximum Likelihood optimization failed to \"\n"
     ]
    }
   ],
   "source": [
    "NBD_training_results = sm.NegativeBinomial(endog=y_train, exog=X_train).fit()"
   ]
  },
  {
   "cell_type": "code",
   "execution_count": 24,
   "id": "4ab4db27",
   "metadata": {},
   "outputs": [
    {
     "data": {
      "text/html": [
       "<table class=\"simpletable\">\n",
       "<caption>NegativeBinomial Regression Results</caption>\n",
       "<tr>\n",
       "  <th>Dep. Variable:</th>       <td>BB_COUNT</td>     <th>  No. Observations:  </th>  <td>   171</td>  \n",
       "</tr>\n",
       "<tr>\n",
       "  <th>Model:</th>           <td>NegativeBinomial</td> <th>  Df Residuals:      </th>  <td>   164</td>  \n",
       "</tr>\n",
       "<tr>\n",
       "  <th>Method:</th>                 <td>MLE</td>       <th>  Df Model:          </th>  <td>     6</td>  \n",
       "</tr>\n",
       "<tr>\n",
       "  <th>Date:</th>            <td>Tue, 26 Sep 2023</td> <th>  Pseudo R-squ.:     </th>  <td>0.05390</td> \n",
       "</tr>\n",
       "<tr>\n",
       "  <th>Time:</th>                <td>21:25:17</td>     <th>  Log-Likelihood:    </th> <td> -1351.6</td> \n",
       "</tr>\n",
       "<tr>\n",
       "  <th>converged:</th>             <td>False</td>      <th>  LL-Null:           </th> <td> -1428.6</td> \n",
       "</tr>\n",
       "<tr>\n",
       "  <th>Covariance Type:</th>     <td>nonrobust</td>    <th>  LLR p-value:       </th> <td>1.101e-30</td>\n",
       "</tr>\n",
       "</table>\n",
       "<table class=\"simpletable\">\n",
       "<tr>\n",
       "       <td></td>          <th>coef</th>     <th>std err</th>      <th>z</th>      <th>P>|z|</th>  <th>[0.025</th>    <th>0.975]</th>  \n",
       "</tr>\n",
       "<tr>\n",
       "  <th>Intercept</th>   <td>    6.7719</td> <td>    0.171</td> <td>   39.535</td> <td> 0.000</td> <td>    6.436</td> <td>    7.108</td>\n",
       "</tr>\n",
       "<tr>\n",
       "  <th>DAY</th>         <td>    0.0009</td> <td>    0.002</td> <td>    0.388</td> <td> 0.698</td> <td>   -0.004</td> <td>    0.005</td>\n",
       "</tr>\n",
       "<tr>\n",
       "  <th>DAY_OF_WEEK</th> <td>   -0.0273</td> <td>    0.010</td> <td>   -2.637</td> <td> 0.008</td> <td>   -0.048</td> <td>   -0.007</td>\n",
       "</tr>\n",
       "<tr>\n",
       "  <th>MONTH</th>       <td>    0.0138</td> <td>    0.010</td> <td>    1.340</td> <td> 0.180</td> <td>   -0.006</td> <td>    0.034</td>\n",
       "</tr>\n",
       "<tr>\n",
       "  <th>HIGH_T</th>      <td>    0.0329</td> <td>    0.005</td> <td>    6.975</td> <td> 0.000</td> <td>    0.024</td> <td>    0.042</td>\n",
       "</tr>\n",
       "<tr>\n",
       "  <th>LOW_T</th>       <td>   -0.0212</td> <td>    0.005</td> <td>   -4.196</td> <td> 0.000</td> <td>   -0.031</td> <td>   -0.011</td>\n",
       "</tr>\n",
       "<tr>\n",
       "  <th>PRECIP</th>      <td>   -0.6063</td> <td>    0.049</td> <td>  -12.310</td> <td> 0.000</td> <td>   -0.703</td> <td>   -0.510</td>\n",
       "</tr>\n",
       "<tr>\n",
       "  <th>alpha</th>       <td>    0.0682</td> <td>    0.007</td> <td>    9.222</td> <td> 0.000</td> <td>    0.054</td> <td>    0.083</td>\n",
       "</tr>\n",
       "</table>"
      ],
      "text/plain": [
       "<class 'statsmodels.iolib.summary.Summary'>\n",
       "\"\"\"\n",
       "                     NegativeBinomial Regression Results                      \n",
       "==============================================================================\n",
       "Dep. Variable:               BB_COUNT   No. Observations:                  171\n",
       "Model:               NegativeBinomial   Df Residuals:                      164\n",
       "Method:                           MLE   Df Model:                            6\n",
       "Date:                Tue, 26 Sep 2023   Pseudo R-squ.:                 0.05390\n",
       "Time:                        21:25:17   Log-Likelihood:                -1351.6\n",
       "converged:                      False   LL-Null:                       -1428.6\n",
       "Covariance Type:            nonrobust   LLR p-value:                 1.101e-30\n",
       "===============================================================================\n",
       "                  coef    std err          z      P>|z|      [0.025      0.975]\n",
       "-------------------------------------------------------------------------------\n",
       "Intercept       6.7719      0.171     39.535      0.000       6.436       7.108\n",
       "DAY             0.0009      0.002      0.388      0.698      -0.004       0.005\n",
       "DAY_OF_WEEK    -0.0273      0.010     -2.637      0.008      -0.048      -0.007\n",
       "MONTH           0.0138      0.010      1.340      0.180      -0.006       0.034\n",
       "HIGH_T          0.0329      0.005      6.975      0.000       0.024       0.042\n",
       "LOW_T          -0.0212      0.005     -4.196      0.000      -0.031      -0.011\n",
       "PRECIP         -0.6063      0.049    -12.310      0.000      -0.703      -0.510\n",
       "alpha           0.0682      0.007      9.222      0.000       0.054       0.083\n",
       "===============================================================================\n",
       "\"\"\""
      ]
     },
     "execution_count": 24,
     "metadata": {},
     "output_type": "execute_result"
    }
   ],
   "source": [
    "NBD_training_results.summary()"
   ]
  },
  {
   "cell_type": "code",
   "execution_count": 24,
   "id": "1b3a1801",
   "metadata": {},
   "outputs": [
    {
     "name": "stdout",
     "output_type": "stream",
     "text": [
      "Date\n",
      "2017-04-02    2532.636552\n",
      "2017-04-09    2656.259826\n",
      "2017-04-13    2475.731380\n",
      "2017-04-16    3461.269698\n",
      "2017-04-17    2698.558380\n",
      "2017-04-24    2272.390083\n",
      "2017-04-28    3672.694573\n",
      "2017-05-11    2170.241601\n",
      "2017-05-18    3679.255531\n",
      "2017-05-20    2111.186124\n",
      "2017-05-24    2348.771312\n",
      "2017-05-25    1231.199685\n",
      "2017-05-27    2409.490456\n",
      "2017-05-30    1895.736015\n",
      "2017-06-01    3071.229281\n",
      "2017-06-04    2075.345871\n",
      "2017-06-17     890.152529\n",
      "2017-06-20    2957.263825\n",
      "2017-06-22    3006.768072\n",
      "2017-07-05    3318.481714\n",
      "2017-07-07     824.289740\n",
      "2017-07-12    3197.022985\n",
      "2017-07-19    3597.609830\n",
      "2017-07-21    3458.926176\n",
      "2017-07-22    2244.134841\n",
      "2017-07-23    2315.758858\n",
      "2017-07-31    4080.345944\n",
      "2017-08-08    2943.730642\n",
      "2017-08-12    2487.106488\n",
      "2017-08-14    3073.299828\n",
      "2017-08-20    2806.918043\n",
      "2017-08-21    3371.229938\n",
      "2017-08-24    3006.350916\n",
      "2017-08-27    2812.162888\n",
      "2017-08-30    3026.533507\n",
      "2017-09-07    2686.206065\n",
      "2017-09-11    3559.832882\n",
      "2017-09-12    3357.276498\n",
      "2017-09-16    2981.108642\n",
      "2017-09-21    2870.712635\n",
      "2017-09-22    3261.617186\n",
      "2017-09-25    3704.944478\n",
      "2017-09-28    2955.271793\n",
      "2017-10-02    3369.260192\n",
      "2017-10-03    2847.520645\n",
      "2017-10-06    3027.824298\n",
      "2017-10-09    2228.296628\n",
      "2017-10-10    3300.176191\n",
      "2017-10-13    2511.355843\n",
      "2017-10-27    2474.742501\n",
      "dtype: float64\n"
     ]
    }
   ],
   "source": [
    "\n",
    "#Make some predictions on the test data set.\n",
    "NBD_predictions = NBD_training_results.predict(X_test)\n",
    "#.summary_frame() returns a pandas DataFrame\n",
    "#predictions_summary_frame = NBD_predictions.summary_frame()\n",
    "print(NBD_predictions)\n"
   ]
  },
  {
   "cell_type": "code",
   "execution_count": 12,
   "id": "925fc15d",
   "metadata": {
    "collapsed": true
   },
   "outputs": [
    {
     "data": {
      "text/plain": [
       "(array([2., 0., 1., 0., 0., 1., 0., 0., 2., 0., 2., 1., 0., 1., 0., 2., 1.,\n",
       "        0., 2., 2., 0., 2., 2., 1., 4., 0., 1., 0., 0., 4., 3., 3., 2., 2.,\n",
       "        0., 0., 0., 1., 0., 1.]),\n",
       " array([ 461.   ,  553.125,  645.25 ,  737.375,  829.5  ,  921.625,\n",
       "        1013.75 , 1105.875, 1198.   , 1290.125, 1382.25 , 1474.375,\n",
       "        1566.5  , 1658.625, 1750.75 , 1842.875, 1935.   , 2027.125,\n",
       "        2119.25 , 2211.375, 2303.5  , 2395.625, 2487.75 , 2579.875,\n",
       "        2672.   , 2764.125, 2856.25 , 2948.375, 3040.5  , 3132.625,\n",
       "        3224.75 , 3316.875, 3409.   , 3501.125, 3593.25 , 3685.375,\n",
       "        3777.5  , 3869.625, 3961.75 , 4053.875, 4146.   ]),\n",
       " <BarContainer object of 40 artists>)"
      ]
     },
     "execution_count": 12,
     "metadata": {},
     "output_type": "execute_result"
    },
    {
     "data": {
      "image/png": "[encoded data removed]",
      "text/plain": [
       "<Figure size 432x288 with 1 Axes>"
      ]
     },
     "metadata": {
      "needs_background": "light"
     },
     "output_type": "display_data"
    }
   ],
   "source": [
    "plt.hist(NBD_predictions,40,color='red')\n",
    "plt.hist(actual_counts, 40,color='blue',rwidth=0.3)"
   ]
  },
  {
   "cell_type": "code",
   "execution_count": 13,
   "id": "aa039d5f",
   "metadata": {},
   "outputs": [
    {
     "data": {
      "image/png": "[encoded data removed]",
      "text/plain": [
       "<Figure size 432x288 with 1 Axes>"
      ]
     },
     "metadata": {
      "needs_background": "light"
     },
     "output_type": "display_data"
    }
   ],
   "source": [
    "#predicted_counts=predictions_summary_frame['mean']\n",
    "actual_counts = y_test['BB_COUNT']\n",
    "#Mlot the predicted counts versus the actual counts for the test data.\n",
    "fig = plt.figure()\n",
    "fig.suptitle('Predicted versus actual bicyclist counts on the Brooklyn bridge')\n",
    "predicted, = plt.plot(X_test.index, NBD_predictions, 'go-', label='NBD_predictions')\n",
    "actual, = plt.plot(X_test.index, predicted_counts, 'ro-', label='Poisson predictions')\n",
    "plt.legend(handles=[predicted, actual])\n",
    "plt.show()"
   ]
  },
  {
   "cell_type": "code",
   "execution_count": null,
   "id": "9e269218",
   "metadata": {},
   "outputs": [],
   "source": []
  }
 ],
 "metadata": {
  "kernelspec": {
   "display_name": "Python 3 (ipykernel)",
   "language": "python",
   "name": "python3"
  },
  "language_info": {
   "codemirror_mode": {
    "name": "ipython",
    "version": 3
   },
   "file_extension": ".py",
   "mimetype": "text/x-python",
   "name": "python",
   "nbconvert_exporter": "python",
   "pygments_lexer": "ipython3",
   "version": "3.9.13"
  }
 },
 "nbformat": 4,
 "nbformat_minor": 5
}
