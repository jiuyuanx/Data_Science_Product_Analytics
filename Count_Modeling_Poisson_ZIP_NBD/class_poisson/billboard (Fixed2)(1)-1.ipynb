{
 "cells": [
  {
   "cell_type": "code",
   "execution_count": 1,
   "id": "2cedade1",
   "metadata": {},
   "outputs": [
    {
     "name": "stdout",
     "output_type": "stream",
     "text": [
      "C:\\Users\\rtelang\\Box\\BIDA_S24\\Poisson\n"
     ]
    }
   ],
   "source": [
    "import os\n",
    "print(os.getcwd())\n",
    "os.chdir('../Poisson')\n",
    "import pandas as pd\n",
    "from patsy import dmatrices\n",
    "import numpy as np\n",
    "import statsmodels.formula.api as sm\n",
    "import matplotlib.pyplot as plt\n",
    "import scipy.stats as stats\n",
    "import scipy.special as special"
   ]
  },
  {
   "cell_type": "markdown",
   "id": "77b47bee",
   "metadata": {},
   "source": [
    "## Data Cleaning"
   ]
  },
  {
   "cell_type": "code",
   "execution_count": 2,
   "id": "c87f10f3",
   "metadata": {
    "scrolled": true
   },
   "outputs": [
    {
     "data": {
      "text/html": [
       "<div>\n",
       "<style scoped>\n",
       "    .dataframe tbody tr th:only-of-type {\n",
       "        vertical-align: middle;\n",
       "    }\n",
       "\n",
       "    .dataframe tbody tr th {\n",
       "        vertical-align: top;\n",
       "    }\n",
       "\n",
       "    .dataframe thead th {\n",
       "        text-align: right;\n",
       "    }\n",
       "</style>\n",
       "<table border=\"1\" class=\"dataframe\">\n",
       "  <thead>\n",
       "    <tr style=\"text-align: right;\">\n",
       "      <th></th>\n",
       "      <th>exposure (x)</th>\n",
       "      <th>number of users (N)</th>\n",
       "    </tr>\n",
       "  </thead>\n",
       "  <tbody>\n",
       "    <tr>\n",
       "      <th>0</th>\n",
       "      <td>0</td>\n",
       "      <td>48</td>\n",
       "    </tr>\n",
       "    <tr>\n",
       "      <th>1</th>\n",
       "      <td>1</td>\n",
       "      <td>37</td>\n",
       "    </tr>\n",
       "    <tr>\n",
       "      <th>2</th>\n",
       "      <td>2</td>\n",
       "      <td>30</td>\n",
       "    </tr>\n",
       "    <tr>\n",
       "      <th>3</th>\n",
       "      <td>3</td>\n",
       "      <td>24</td>\n",
       "    </tr>\n",
       "    <tr>\n",
       "      <th>4</th>\n",
       "      <td>4</td>\n",
       "      <td>20</td>\n",
       "    </tr>\n",
       "    <tr>\n",
       "      <th>5</th>\n",
       "      <td>5</td>\n",
       "      <td>16</td>\n",
       "    </tr>\n",
       "    <tr>\n",
       "      <th>6</th>\n",
       "      <td>6</td>\n",
       "      <td>13</td>\n",
       "    </tr>\n",
       "    <tr>\n",
       "      <th>7</th>\n",
       "      <td>7</td>\n",
       "      <td>11</td>\n",
       "    </tr>\n",
       "    <tr>\n",
       "      <th>8</th>\n",
       "      <td>8</td>\n",
       "      <td>9</td>\n",
       "    </tr>\n",
       "    <tr>\n",
       "      <th>9</th>\n",
       "      <td>9</td>\n",
       "      <td>7</td>\n",
       "    </tr>\n",
       "  </tbody>\n",
       "</table>\n",
       "</div>"
      ],
      "text/plain": [
       "   exposure (x)  number of users (N)\n",
       "0             0                   48\n",
       "1             1                   37\n",
       "2             2                   30\n",
       "3             3                   24\n",
       "4             4                   20\n",
       "5             5                   16\n",
       "6             6                   13\n",
       "7             7                   11\n",
       "8             8                    9\n",
       "9             9                    7"
      ]
     },
     "execution_count": 2,
     "metadata": {},
     "output_type": "execute_result"
    }
   ],
   "source": [
    "df = pd.read_excel('billboard_data.xlsx', header=0)\n",
    "df.head(10)"
   ]
  },
  {
   "cell_type": "markdown",
   "id": "5dca034c",
   "metadata": {},
   "source": [
    "We want every observation corresponds to a user"
   ]
  },
  {
   "cell_type": "code",
   "execution_count": 3,
   "id": "027c6a43",
   "metadata": {},
   "outputs": [
    {
     "data": {
      "text/html": [
       "<div>\n",
       "<style scoped>\n",
       "    .dataframe tbody tr th:only-of-type {\n",
       "        vertical-align: middle;\n",
       "    }\n",
       "\n",
       "    .dataframe tbody tr th {\n",
       "        vertical-align: top;\n",
       "    }\n",
       "\n",
       "    .dataframe thead th {\n",
       "        text-align: right;\n",
       "    }\n",
       "</style>\n",
       "<table border=\"1\" class=\"dataframe\">\n",
       "  <thead>\n",
       "    <tr style=\"text-align: right;\">\n",
       "      <th></th>\n",
       "      <th>exposures</th>\n",
       "    </tr>\n",
       "  </thead>\n",
       "  <tbody>\n",
       "    <tr>\n",
       "      <th>0</th>\n",
       "      <td>0</td>\n",
       "    </tr>\n",
       "    <tr>\n",
       "      <th>1</th>\n",
       "      <td>0</td>\n",
       "    </tr>\n",
       "    <tr>\n",
       "      <th>2</th>\n",
       "      <td>0</td>\n",
       "    </tr>\n",
       "    <tr>\n",
       "      <th>3</th>\n",
       "      <td>0</td>\n",
       "    </tr>\n",
       "    <tr>\n",
       "      <th>4</th>\n",
       "      <td>0</td>\n",
       "    </tr>\n",
       "    <tr>\n",
       "      <th>...</th>\n",
       "      <td>...</td>\n",
       "    </tr>\n",
       "    <tr>\n",
       "      <th>245</th>\n",
       "      <td>20</td>\n",
       "    </tr>\n",
       "    <tr>\n",
       "      <th>246</th>\n",
       "      <td>20</td>\n",
       "    </tr>\n",
       "    <tr>\n",
       "      <th>247</th>\n",
       "      <td>21</td>\n",
       "    </tr>\n",
       "    <tr>\n",
       "      <th>248</th>\n",
       "      <td>22</td>\n",
       "    </tr>\n",
       "    <tr>\n",
       "      <th>249</th>\n",
       "      <td>23</td>\n",
       "    </tr>\n",
       "  </tbody>\n",
       "</table>\n",
       "<p>250 rows × 1 columns</p>\n",
       "</div>"
      ],
      "text/plain": [
       "     exposures\n",
       "0            0\n",
       "1            0\n",
       "2            0\n",
       "3            0\n",
       "4            0\n",
       "..         ...\n",
       "245         20\n",
       "246         20\n",
       "247         21\n",
       "248         22\n",
       "249         23\n",
       "\n",
       "[250 rows x 1 columns]"
      ]
     },
     "execution_count": 3,
     "metadata": {},
     "output_type": "execute_result"
    }
   ],
   "source": [
    "\n",
    "exposures = df.values\n",
    "exposures = np.repeat(exposures[:, 0],exposures[:,1])\n",
    "df_l = pd.DataFrame(exposures, columns=[\"exposures\"])\n",
    "df_l"
   ]
  },
  {
   "cell_type": "markdown",
   "id": "fbfeefb5",
   "metadata": {},
   "source": [
    "# Poisson regression"
   ]
  },
  {
   "cell_type": "code",
   "execution_count": 4,
   "id": "bceb70c6",
   "metadata": {},
   "outputs": [
    {
     "name": "stdout",
     "output_type": "stream",
     "text": [
      "Optimization terminated successfully.\n",
      "         Current function value: 3.716176\n",
      "         Iterations 1\n"
     ]
    }
   ],
   "source": [
    "Poisson_results = sm.poisson(\"exposures~1\", df_l).fit()"
   ]
  },
  {
   "cell_type": "code",
   "execution_count": 5,
   "id": "a7bfa48f",
   "metadata": {},
   "outputs": [
    {
     "name": "stdout",
     "output_type": "stream",
     "text": [
      "                          Poisson Regression Results                          \n",
      "==============================================================================\n",
      "Dep. Variable:              exposures   No. Observations:                  250\n",
      "Model:                        Poisson   Df Residuals:                      249\n",
      "Method:                           MLE   Df Model:                            0\n",
      "Date:                Tue, 13 Feb 2024   Pseudo R-squ.:                   0.000\n",
      "Time:                        09:22:55   Log-Likelihood:                -929.04\n",
      "converged:                       True   LL-Null:                       -929.04\n",
      "Covariance Type:            nonrobust   LLR p-value:                       nan\n",
      "==============================================================================\n",
      "                 coef    std err          z      P>|z|      [0.025      0.975]\n",
      "------------------------------------------------------------------------------\n",
      "Intercept      1.4943      0.030     49.873      0.000       1.436       1.553\n",
      "==============================================================================\n"
     ]
    }
   ],
   "source": [
    "print(Poisson_results.summary())"
   ]
  },
  {
   "cell_type": "code",
   "execution_count": 6,
   "id": "dd288891",
   "metadata": {},
   "outputs": [
    {
     "data": {
      "text/plain": [
       "0      4.456\n",
       "1      4.456\n",
       "2      4.456\n",
       "3      4.456\n",
       "4      4.456\n",
       "       ...  \n",
       "245    4.456\n",
       "246    4.456\n",
       "247    4.456\n",
       "248    4.456\n",
       "249    4.456\n",
       "Length: 250, dtype: float64"
      ]
     },
     "execution_count": 6,
     "metadata": {},
     "output_type": "execute_result"
    }
   ],
   "source": [
    "## prediction \n",
    "Poisson_predictions = Poisson_results.predict(df_l)\n",
    "Poisson_predictions "
   ]
  },
  {
   "cell_type": "code",
   "execution_count": 7,
   "id": "b720e733",
   "metadata": {},
   "outputs": [
    {
     "data": {
      "image/png": "[encoded data removed]",
      "text/plain": [
       "<Figure size 640x480 with 1 Axes>"
      ]
     },
     "metadata": {},
     "output_type": "display_data"
    }
   ],
   "source": [
    "## prediction on the individual level\n",
    "plt.scatter(df_l.index, df_l.exposures, label=\"actual\")\n",
    "plt.scatter(df_l.index, Poisson_predictions, label=\"predicted\")\n",
    "plt.title(\"Poisson fitting(individual)\")\n",
    "plt.legend()\n",
    "plt.show()"
   ]
  },
  {
   "cell_type": "markdown",
   "id": "6e48b105",
   "metadata": {},
   "source": [
    "prediction at individual level is just the mean which is same for all individuals.\n",
    "\n",
    "We plot the distribution of visits given the mean. Here we calculate the probability of i=1,,n number of visits based on the mean rate $\\lambda = 4.45$. If we multily this probability by sample size n =250, we can calculate the number of users making i=1,,n visits."
   ]
  },
  {
   "cell_type": "code",
   "execution_count": 8,
   "id": "67223e07",
   "metadata": {
    "scrolled": true
   },
   "outputs": [
    {
     "data": {
      "image/png": "[encoded data removed]",
      "text/plain": [
       "<Figure size 640x480 with 1 Axes>"
      ]
     },
     "metadata": {},
     "output_type": "display_data"
    }
   ],
   "source": [
    "\n",
    "## plot range between 0 and max of exposures in the actual data \n",
    "x_range = np.arange(np.max(df.iloc[:,0])+1)\n",
    "lmbda = np.exp(Poisson_results.params)\n",
    "predicted_count = stats.poisson.pmf(x_range, lmbda)* len(exposures)\n",
    "plt.bar(df.iloc[:,0],df.iloc[:,1], color='red', label=\"actual\")\n",
    "plt.bar(x_range, predicted_count,color='blue',width=0.3, label = \"predicted\") \n",
    "plt.title(\"Poisson fitting(aggregated)\")\n",
    "\n",
    "plt.legend()\n",
    "plt.show()"
   ]
  },
  {
   "cell_type": "code",
   "execution_count": 19,
   "id": "2f8e1a9f",
   "metadata": {},
   "outputs": [
    {
     "data": {
      "text/plain": [
       "array([ 0,  1,  2,  3,  4,  5,  6,  7,  8,  9, 10, 11, 12, 13, 14, 15, 16,\n",
       "       17, 18, 19, 20, 21, 22, 23])"
      ]
     },
     "execution_count": 19,
     "metadata": {},
     "output_type": "execute_result"
    }
   ],
   "source": [
    "x_range"
   ]
  },
  {
   "cell_type": "code",
   "execution_count": 9,
   "id": "52175137",
   "metadata": {},
   "outputs": [
    {
     "data": {
      "text/plain": [
       "array([2.90217634e+00, 1.29320978e+01, 2.88127138e+01, 4.27964843e+01,\n",
       "       4.76752835e+01, 4.24882127e+01, 3.15545793e+01, 2.00867436e+01,\n",
       "       1.11883162e+01, 5.53945966e+00, 2.46838322e+00, 9.99919604e-01,\n",
       "       3.71303480e-01, 1.27271408e-01, 4.05086710e-02, 1.20337759e-02,\n",
       "       3.35140658e-03, 8.78462807e-04, 2.17468348e-04, 5.10020505e-05,\n",
       "       1.13632569e-05, 2.41117488e-06, 4.88372513e-07, 9.46168660e-08])"
      ]
     },
     "execution_count": 9,
     "metadata": {},
     "output_type": "execute_result"
    }
   ],
   "source": [
    "stats.poisson.pmf(x_range, lmbda)*250"
   ]
  },
  {
   "cell_type": "markdown",
   "id": "4f05c244",
   "metadata": {},
   "source": [
    "If the campaign is run for 4 weeks then new mean will be $4\\lambda\\$. Pediction for 4 weeks is"
   ]
  },
  {
   "cell_type": "code",
   "execution_count": 10,
   "id": "720f8e22",
   "metadata": {},
   "outputs": [
    {
     "data": {
      "image/png": "[encoded data removed]",
      "text/plain": [
       "<Figure size 640x480 with 1 Axes>"
      ]
     },
     "metadata": {},
     "output_type": "display_data"
    }
   ],
   "source": [
    "predicted_count4L = stats.poisson.pmf(x_range, lmbda*4)* len(exposures)\n",
    "plt.bar(x_range, predicted_count,color='red',width=0.3, label = \"1week\") \n",
    "plt.bar(x_range, predicted_count4L,color='blue',width=0.3, label = \"4week\") \n",
    "plt.title(\"Poisson fitting(aggregated)\")\n",
    "\n",
    "plt.xlabel('exposures')\n",
    "plt.ylabel('number of users')\n",
    "plt.legend()\n",
    "plt.show()"
   ]
  },
  {
   "cell_type": "markdown",
   "id": "6299c782",
   "metadata": {},
   "source": [
    "## NBD Regression"
   ]
  },
  {
   "cell_type": "code",
   "execution_count": 11,
   "id": "a9399b0a",
   "metadata": {},
   "outputs": [
    {
     "name": "stdout",
     "output_type": "stream",
     "text": [
      "Optimization terminated successfully.\n",
      "         Current function value: 2.598755\n",
      "         Iterations: 4\n",
      "         Function evaluations: 5\n",
      "         Gradient evaluations: 5\n"
     ]
    }
   ],
   "source": [
    "NBD_results = sm.negativebinomial(\"exposures~1\", df_l).fit()"
   ]
  },
  {
   "cell_type": "code",
   "execution_count": 12,
   "id": "0261de12",
   "metadata": {},
   "outputs": [
    {
     "name": "stdout",
     "output_type": "stream",
     "text": [
      "                     NegativeBinomial Regression Results                      \n",
      "==============================================================================\n",
      "Dep. Variable:              exposures   No. Observations:                  250\n",
      "Model:               NegativeBinomial   Df Residuals:                      249\n",
      "Method:                           MLE   Df Model:                            0\n",
      "Date:                Mon, 02 Oct 2023   Pseudo R-squ.:               6.499e-12\n",
      "Time:                        10:11:43   Log-Likelihood:                -649.69\n",
      "converged:                       True   LL-Null:                       -649.69\n",
      "Covariance Type:            nonrobust   LLR p-value:                       nan\n",
      "==============================================================================\n",
      "                 coef    std err          z      P>|z|      [0.025      0.975]\n",
      "------------------------------------------------------------------------------\n",
      "Intercept      1.4943      0.071     21.080      0.000       1.355       1.633\n",
      "alpha          1.0317      0.121      8.539      0.000       0.795       1.269\n",
      "==============================================================================\n"
     ]
    }
   ],
   "source": [
    "print(NBD_results.summary())"
   ]
  },
  {
   "cell_type": "code",
   "execution_count": 13,
   "id": "a1e81f08",
   "metadata": {},
   "outputs": [],
   "source": [
    "NBD_predictions = NBD_results.predict(df_l)"
   ]
  },
  {
   "cell_type": "code",
   "execution_count": 14,
   "id": "49d6461c",
   "metadata": {},
   "outputs": [
    {
     "data": {
      "image/png": "[encoded data removed]",
      "text/plain": [
       "<Figure size 640x480 with 1 Axes>"
      ]
     },
     "metadata": {},
     "output_type": "display_data"
    }
   ],
   "source": [
    "## prediction on the individual level\n",
    "plt.scatter(df_l.index, df_l.exposures, label=\"actual\")\n",
    "plt.scatter(df_l.index, NBD_predictions, label=\"predicted\")\n",
    "plt.title(\"NBD fitting(individual)\")\n",
    "\n",
    "plt.legend()\n",
    "plt.show()"
   ]
  },
  {
   "cell_type": "code",
   "execution_count": 16,
   "id": "ae8647f6",
   "metadata": {
    "scrolled": true
   },
   "outputs": [
    {
     "data": {
      "image/png": "[encoded data removed]",
      "text/plain": [
       "<Figure size 640x480 with 1 Axes>"
      ]
     },
     "metadata": {},
     "output_type": "display_data"
    }
   ],
   "source": [
    "## prediction on the aggregated level \n",
    "x_range = np.arange(np.max(exposures)+1)\n",
    "## ref:\n",
    "## https://www.statsmodels.org/stable/generated/statsmodels.genmod.families.family.NegativeBinomial.html\n",
    "## https://docs.scipy.org/doc/scipy/reference/generated/scipy.stats.nbinom.html\n",
    "mu, alpha = NBD_results.params\n",
    "mu = np.exp(mu)\n",
    "p = 1/(1+alpha*mu)\n",
    "n = 1/alpha\n",
    "NBD_pmf = stats.nbinom.pmf(x_range, n, p)\n",
    "predicted_count = NBD_pmf* len(exposures)\n",
    "\n",
    "plt.bar(df.iloc[:,0],df.iloc[:,1], color='red', label=\"actual\")\n",
    "plt.bar(x_range, predicted_count,color='blue',width=0.3, label = \"predicted\")\n",
    "plt.legend()\n",
    "plt.title(\"NBD fitting(aggregated)\")\n",
    "plt.show()"
   ]
  },
  {
   "cell_type": "code",
   "execution_count": 25,
   "id": "cef62a3f",
   "metadata": {},
   "outputs": [
    {
     "data": {
      "text/plain": [
       "0.17865680585321658"
      ]
     },
     "execution_count": 25,
     "metadata": {},
     "output_type": "execute_result"
    }
   ],
   "source": [
    "p"
   ]
  },
  {
   "cell_type": "code",
   "execution_count": 25,
   "id": "898c2921",
   "metadata": {},
   "outputs": [
    {
     "data": {
      "text/plain": [
       "30.319023434650028"
      ]
     },
     "execution_count": 25,
     "metadata": {},
     "output_type": "execute_result"
    }
   ],
   "source": [
    " stats.nbinom.pmf(2, n, p)*250"
   ]
  },
  {
   "cell_type": "code",
   "execution_count": 21,
   "id": "685a3eab",
   "metadata": {},
   "outputs": [
    {
     "data": {
      "text/plain": [
       "array([ 0,  1,  2,  3,  4,  5,  6,  7,  8,  9, 10, 11, 12, 13, 14, 15, 16,\n",
       "       17, 18, 19, 20, 21, 22, 23], dtype=int64)"
      ]
     },
     "execution_count": 21,
     "metadata": {},
     "output_type": "execute_result"
    }
   ],
   "source": [
    "x_range "
   ]
  },
  {
   "cell_type": "code",
   "execution_count": null,
   "id": "134ebd90",
   "metadata": {},
   "outputs": [],
   "source": [
    " #Used by me\n",
    "x_range = np.arange(np.max(exposures)+1)\n",
    "## ref:\n",
    "## https://www.statsmodels.org/stable/generated/statsmodels.genmod.families.family.NegativeBinomial.html\n",
    "## https://docs.scipy.org/doc/scipy/reference/generated/scipy.stats.nbinom.html\n",
    "\n",
    "n = NBD_results.params['alpha']\n",
    "p = NBD_results.predict() \n",
    "p1 = p[:24]\n",
    "NBD_pmf = stats.nbinom.pmf(x_range, n, p1)\n",
    "predicted_count = NBD_pmf* len(exposures)\n",
    "\n",
    "plt.bar(df.iloc[:,0],df.iloc[:,1], color='red', label=\"actual\")\n",
    "plt.bar(x_range, predicted_count,color='blue',width=0.3, label = \"predicted\")\n",
    "plt.legend()\n",
    "plt.title(\"NBD fitting(aggregated)\")\n",
    "plt.show()"
   ]
  },
  {
   "cell_type": "code",
   "execution_count": null,
   "id": "d24c95c5",
   "metadata": {},
   "outputs": [],
   "source": []
  }
 ],
 "metadata": {
  "kernelspec": {
   "display_name": "Python 3 (ipykernel)",
   "language": "python",
   "name": "python3"
  },
  "language_info": {
   "codemirror_mode": {
    "name": "ipython",
    "version": 3
   },
   "file_extension": ".py",
   "mimetype": "text/x-python",
   "name": "python",
   "nbconvert_exporter": "python",
   "pygments_lexer": "ipython3",
   "version": "3.9.13"
  }
 },
 "nbformat": 4,
 "nbformat_minor": 5
}
